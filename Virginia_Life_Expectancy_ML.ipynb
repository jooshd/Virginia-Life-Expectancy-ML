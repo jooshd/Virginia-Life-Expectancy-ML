{
  "nbformat": 4,
  "nbformat_minor": 0,
  "metadata": {
    "colab": {
      "provenance": []
    },
    "kernelspec": {
      "name": "python3",
      "display_name": "Python 3"
    },
    "language_info": {
      "name": "python"
    },
    "gpuClass": "standard"
  },
  "cells": [
    {
      "cell_type": "markdown",
      "source": [
        "#Predicting Life Expectancy Based on Virginia Health Opportunity Index\n",
        "---\n",
        "###Bryant Chow, Josh De Vera, Tony Le\n",
        "###CS 4774\n",
        "###Professor Nguyen\n",
        "###Guiding TA: Emery Shelly\n",
        "\n",
        "\n",
        "\n",
        "\n"
      ],
      "metadata": {
        "id": "-wYVCPrCiXyU"
      }
    },
    {
      "cell_type": "markdown",
      "source": [
        "## Project Abstract\n",
        "The purpose of this experiment is to use the Health Opportunity Index to predict life expectancy and identify which socio-economic factors as well as public facilities affect the overall life expectancy within VA. We can then use this data to 1) help areas with lower life expectancies and 2) see which features affect life expectancy the most to guide public policy. There have already been a few projects which have tackled this, but what makes our project different is our second point. The National Institute of Health (NIH) has done a similar study which looks at Ohio and tests the validity of the Health Opportunity Index (HOI) and its ability to predict life expectancy. It found that the HOI has a strong correlation with life expectancy. They tested their model on the following years’ HOI and it was able to accurately predict the life expectancy of a county. We can use similar techniques and compare our Virginia data set error to that of Ohio to make sure our model works accurately. One limitation of the Ohio data set was the lack of data from rural areas, but the data set we found has a considerable amount of data on rural areas so we can try to make an even more accurate model with data from Virginia’s rural counties.\n"
      ],
      "metadata": {
        "id": "oEfqFOjzgcck"
      }
    },
    {
      "cell_type": "markdown",
      "source": [
        "# Data Sets Combined fot this project:\n",
        "\n",
        "VA Health Opportunity Index: https://data.virginia.gov/Family-Health/Health-Opportunity-Index/6q6u-dcz7\n",
        "\n",
        "VA Life Expectancy:\n",
        "https://data.virginia.gov/Health/Open-View-VA-Census-Tract-Life-Expectancy/pdsy-56sx\n",
        "\n",
        "US Census ID Forms:\n",
        "https://www.fcc.gov/general/form-477-census-tract-information\n"
      ],
      "metadata": {
        "id": "HHj7MY_Ngofw"
      }
    },
    {
      "cell_type": "markdown",
      "source": [
        "# Data Set Merging\n",
        "To create the single data set for this project, I used the US Census ID dataset and cross-referenced it with the Va Life Expectancy data set since each data point was identified with their Census ID Number. Then, I cross-referenced that data with the VA Health Opportunity Index Dataset using the Census Tract Number which isn't on the US Census ID dataset. The final dataset contains the each counties Census Tract number, the features that are accounted in the Health Opportunity Index, the Health Opportunity Index score, and the life expectancy.\n"
      ],
      "metadata": {
        "id": "QXOVSAT2g7_I"
      }
    },
    {
      "cell_type": "code",
      "source": [
        "import numpy as np"
      ],
      "metadata": {
        "id": "N1MiAiFoOvdP"
      },
      "execution_count": null,
      "outputs": []
    },
    {
      "cell_type": "code",
      "source": [
        "import pandas as pd\n",
        "\n",
        "hoi = pd.read_csv('Health_Opportunity_Index.csv')\n",
        "lifeExp = pd.read_csv('Open_View_-_VA_Census_Tract_Life_Expectancy.csv')"
      ],
      "metadata": {
        "id": "QnAm0gjaAJ32"
      },
      "execution_count": null,
      "outputs": []
    },
    {
      "cell_type": "code",
      "source": [
        "hoi.head()"
      ],
      "metadata": {
        "colab": {
          "base_uri": "https://localhost:8080/",
          "height": 305
        },
        "id": "JcqrwRy2AePf",
        "outputId": "4906d855-3665-4fa1-9868-95a2d996a3b8"
      },
      "execution_count": null,
      "outputs": [
        {
          "output_type": "execute_result",
          "data": {
            "text/plain": [
              "   Census Tract Rural~Urban  Access to Care  Employment Accessibility  \\\n",
              "0   51650011400       Urban        0.486042                  0.015251   \n",
              "1   51760040300       Urban        0.502987                  0.042804   \n",
              "2   51013101701       Urban        0.432198                  0.131224   \n",
              "3   51710002500       Urban        0.465814                  0.041683   \n",
              "4   51760040400       Urban        0.502987                  0.084305   \n",
              "\n",
              "   Affordability  Air Quality  Population Churning  Education  \\\n",
              "0       0.043043     0.730782             0.468193   0.630734   \n",
              "1       0.641642     0.351528             0.022901   0.871575   \n",
              "2       0.627628     0.800711             0.513995   0.853716   \n",
              "3       0.021021     0.754040             0.444020   0.697862   \n",
              "4       0.662663     0.382158             0.427481   0.800714   \n",
              "\n",
              "   Food Accessibility  Income Inequality  Job Participation  \\\n",
              "0            0.977517           0.034818              0.150   \n",
              "1            0.933302           0.082321              0.373   \n",
              "2            0.933302           0.395412              0.759   \n",
              "3            0.741324           0.258974              0.436   \n",
              "4            0.933302           0.000000              0.551   \n",
              "\n",
              "   Population Density  Segregation  Material Deprivation  Walkability  \\\n",
              "0            0.043334     0.770141              0.000000     0.245825   \n",
              "1            0.227476     0.639438              0.133458     0.307647   \n",
              "2            1.000000     0.801044              0.343863     0.731265   \n",
              "3            0.113065     0.919320              0.228861     0.321052   \n",
              "4            0.231267     0.822681              0.184284     0.326225   \n",
              "\n",
              "   Community Environment Profile  Consumer Opportunity Profile  \\\n",
              "0                       0.540012                      0.390787   \n",
              "1                       0.777319                      0.764695   \n",
              "2                       1.000000                      0.827284   \n",
              "3                       0.561143                      0.302549   \n",
              "4                       0.719178                      0.773519   \n",
              "\n",
              "   Economic Opportunity Profile  Wellness Disparity Profile  \\\n",
              "0                      0.006034                    0.409863   \n",
              "1                      0.033064                    0.488495   \n",
              "2                      0.326435                    0.355932   \n",
              "3                      0.183497                    0.319484   \n",
              "4                      0.075911                    0.395098   \n",
              "\n",
              "   Health Opportunity Index  \n",
              "0                  0.000000  \n",
              "1                  0.015558  \n",
              "2                  0.032861  \n",
              "3                  0.077873  \n",
              "4                  0.085121  "
            ],
            "text/html": [
              "\n",
              "  <div id=\"df-b3a45728-3426-4365-97b5-a11eebd9ffa6\">\n",
              "    <div class=\"colab-df-container\">\n",
              "      <div>\n",
              "<style scoped>\n",
              "    .dataframe tbody tr th:only-of-type {\n",
              "        vertical-align: middle;\n",
              "    }\n",
              "\n",
              "    .dataframe tbody tr th {\n",
              "        vertical-align: top;\n",
              "    }\n",
              "\n",
              "    .dataframe thead th {\n",
              "        text-align: right;\n",
              "    }\n",
              "</style>\n",
              "<table border=\"1\" class=\"dataframe\">\n",
              "  <thead>\n",
              "    <tr style=\"text-align: right;\">\n",
              "      <th></th>\n",
              "      <th>Census Tract</th>\n",
              "      <th>Rural~Urban</th>\n",
              "      <th>Access to Care</th>\n",
              "      <th>Employment Accessibility</th>\n",
              "      <th>Affordability</th>\n",
              "      <th>Air Quality</th>\n",
              "      <th>Population Churning</th>\n",
              "      <th>Education</th>\n",
              "      <th>Food Accessibility</th>\n",
              "      <th>Income Inequality</th>\n",
              "      <th>Job Participation</th>\n",
              "      <th>Population Density</th>\n",
              "      <th>Segregation</th>\n",
              "      <th>Material Deprivation</th>\n",
              "      <th>Walkability</th>\n",
              "      <th>Community Environment Profile</th>\n",
              "      <th>Consumer Opportunity Profile</th>\n",
              "      <th>Economic Opportunity Profile</th>\n",
              "      <th>Wellness Disparity Profile</th>\n",
              "      <th>Health Opportunity Index</th>\n",
              "    </tr>\n",
              "  </thead>\n",
              "  <tbody>\n",
              "    <tr>\n",
              "      <th>0</th>\n",
              "      <td>51650011400</td>\n",
              "      <td>Urban</td>\n",
              "      <td>0.486042</td>\n",
              "      <td>0.015251</td>\n",
              "      <td>0.043043</td>\n",
              "      <td>0.730782</td>\n",
              "      <td>0.468193</td>\n",
              "      <td>0.630734</td>\n",
              "      <td>0.977517</td>\n",
              "      <td>0.034818</td>\n",
              "      <td>0.150</td>\n",
              "      <td>0.043334</td>\n",
              "      <td>0.770141</td>\n",
              "      <td>0.000000</td>\n",
              "      <td>0.245825</td>\n",
              "      <td>0.540012</td>\n",
              "      <td>0.390787</td>\n",
              "      <td>0.006034</td>\n",
              "      <td>0.409863</td>\n",
              "      <td>0.000000</td>\n",
              "    </tr>\n",
              "    <tr>\n",
              "      <th>1</th>\n",
              "      <td>51760040300</td>\n",
              "      <td>Urban</td>\n",
              "      <td>0.502987</td>\n",
              "      <td>0.042804</td>\n",
              "      <td>0.641642</td>\n",
              "      <td>0.351528</td>\n",
              "      <td>0.022901</td>\n",
              "      <td>0.871575</td>\n",
              "      <td>0.933302</td>\n",
              "      <td>0.082321</td>\n",
              "      <td>0.373</td>\n",
              "      <td>0.227476</td>\n",
              "      <td>0.639438</td>\n",
              "      <td>0.133458</td>\n",
              "      <td>0.307647</td>\n",
              "      <td>0.777319</td>\n",
              "      <td>0.764695</td>\n",
              "      <td>0.033064</td>\n",
              "      <td>0.488495</td>\n",
              "      <td>0.015558</td>\n",
              "    </tr>\n",
              "    <tr>\n",
              "      <th>2</th>\n",
              "      <td>51013101701</td>\n",
              "      <td>Urban</td>\n",
              "      <td>0.432198</td>\n",
              "      <td>0.131224</td>\n",
              "      <td>0.627628</td>\n",
              "      <td>0.800711</td>\n",
              "      <td>0.513995</td>\n",
              "      <td>0.853716</td>\n",
              "      <td>0.933302</td>\n",
              "      <td>0.395412</td>\n",
              "      <td>0.759</td>\n",
              "      <td>1.000000</td>\n",
              "      <td>0.801044</td>\n",
              "      <td>0.343863</td>\n",
              "      <td>0.731265</td>\n",
              "      <td>1.000000</td>\n",
              "      <td>0.827284</td>\n",
              "      <td>0.326435</td>\n",
              "      <td>0.355932</td>\n",
              "      <td>0.032861</td>\n",
              "    </tr>\n",
              "    <tr>\n",
              "      <th>3</th>\n",
              "      <td>51710002500</td>\n",
              "      <td>Urban</td>\n",
              "      <td>0.465814</td>\n",
              "      <td>0.041683</td>\n",
              "      <td>0.021021</td>\n",
              "      <td>0.754040</td>\n",
              "      <td>0.444020</td>\n",
              "      <td>0.697862</td>\n",
              "      <td>0.741324</td>\n",
              "      <td>0.258974</td>\n",
              "      <td>0.436</td>\n",
              "      <td>0.113065</td>\n",
              "      <td>0.919320</td>\n",
              "      <td>0.228861</td>\n",
              "      <td>0.321052</td>\n",
              "      <td>0.561143</td>\n",
              "      <td>0.302549</td>\n",
              "      <td>0.183497</td>\n",
              "      <td>0.319484</td>\n",
              "      <td>0.077873</td>\n",
              "    </tr>\n",
              "    <tr>\n",
              "      <th>4</th>\n",
              "      <td>51760040400</td>\n",
              "      <td>Urban</td>\n",
              "      <td>0.502987</td>\n",
              "      <td>0.084305</td>\n",
              "      <td>0.662663</td>\n",
              "      <td>0.382158</td>\n",
              "      <td>0.427481</td>\n",
              "      <td>0.800714</td>\n",
              "      <td>0.933302</td>\n",
              "      <td>0.000000</td>\n",
              "      <td>0.551</td>\n",
              "      <td>0.231267</td>\n",
              "      <td>0.822681</td>\n",
              "      <td>0.184284</td>\n",
              "      <td>0.326225</td>\n",
              "      <td>0.719178</td>\n",
              "      <td>0.773519</td>\n",
              "      <td>0.075911</td>\n",
              "      <td>0.395098</td>\n",
              "      <td>0.085121</td>\n",
              "    </tr>\n",
              "  </tbody>\n",
              "</table>\n",
              "</div>\n",
              "      <button class=\"colab-df-convert\" onclick=\"convertToInteractive('df-b3a45728-3426-4365-97b5-a11eebd9ffa6')\"\n",
              "              title=\"Convert this dataframe to an interactive table.\"\n",
              "              style=\"display:none;\">\n",
              "        \n",
              "  <svg xmlns=\"http://www.w3.org/2000/svg\" height=\"24px\"viewBox=\"0 0 24 24\"\n",
              "       width=\"24px\">\n",
              "    <path d=\"M0 0h24v24H0V0z\" fill=\"none\"/>\n",
              "    <path d=\"M18.56 5.44l.94 2.06.94-2.06 2.06-.94-2.06-.94-.94-2.06-.94 2.06-2.06.94zm-11 1L8.5 8.5l.94-2.06 2.06-.94-2.06-.94L8.5 2.5l-.94 2.06-2.06.94zm10 10l.94 2.06.94-2.06 2.06-.94-2.06-.94-.94-2.06-.94 2.06-2.06.94z\"/><path d=\"M17.41 7.96l-1.37-1.37c-.4-.4-.92-.59-1.43-.59-.52 0-1.04.2-1.43.59L10.3 9.45l-7.72 7.72c-.78.78-.78 2.05 0 2.83L4 21.41c.39.39.9.59 1.41.59.51 0 1.02-.2 1.41-.59l7.78-7.78 2.81-2.81c.8-.78.8-2.07 0-2.86zM5.41 20L4 18.59l7.72-7.72 1.47 1.35L5.41 20z\"/>\n",
              "  </svg>\n",
              "      </button>\n",
              "      \n",
              "  <style>\n",
              "    .colab-df-container {\n",
              "      display:flex;\n",
              "      flex-wrap:wrap;\n",
              "      gap: 12px;\n",
              "    }\n",
              "\n",
              "    .colab-df-convert {\n",
              "      background-color: #E8F0FE;\n",
              "      border: none;\n",
              "      border-radius: 50%;\n",
              "      cursor: pointer;\n",
              "      display: none;\n",
              "      fill: #1967D2;\n",
              "      height: 32px;\n",
              "      padding: 0 0 0 0;\n",
              "      width: 32px;\n",
              "    }\n",
              "\n",
              "    .colab-df-convert:hover {\n",
              "      background-color: #E2EBFA;\n",
              "      box-shadow: 0px 1px 2px rgba(60, 64, 67, 0.3), 0px 1px 3px 1px rgba(60, 64, 67, 0.15);\n",
              "      fill: #174EA6;\n",
              "    }\n",
              "\n",
              "    [theme=dark] .colab-df-convert {\n",
              "      background-color: #3B4455;\n",
              "      fill: #D2E3FC;\n",
              "    }\n",
              "\n",
              "    [theme=dark] .colab-df-convert:hover {\n",
              "      background-color: #434B5C;\n",
              "      box-shadow: 0px 1px 3px 1px rgba(0, 0, 0, 0.15);\n",
              "      filter: drop-shadow(0px 1px 2px rgba(0, 0, 0, 0.3));\n",
              "      fill: #FFFFFF;\n",
              "    }\n",
              "  </style>\n",
              "\n",
              "      <script>\n",
              "        const buttonEl =\n",
              "          document.querySelector('#df-b3a45728-3426-4365-97b5-a11eebd9ffa6 button.colab-df-convert');\n",
              "        buttonEl.style.display =\n",
              "          google.colab.kernel.accessAllowed ? 'block' : 'none';\n",
              "\n",
              "        async function convertToInteractive(key) {\n",
              "          const element = document.querySelector('#df-b3a45728-3426-4365-97b5-a11eebd9ffa6');\n",
              "          const dataTable =\n",
              "            await google.colab.kernel.invokeFunction('convertToInteractive',\n",
              "                                                     [key], {});\n",
              "          if (!dataTable) return;\n",
              "\n",
              "          const docLinkHtml = 'Like what you see? Visit the ' +\n",
              "            '<a target=\"_blank\" href=https://colab.research.google.com/notebooks/data_table.ipynb>data table notebook</a>'\n",
              "            + ' to learn more about interactive tables.';\n",
              "          element.innerHTML = '';\n",
              "          dataTable['output_type'] = 'display_data';\n",
              "          await google.colab.output.renderOutput(dataTable, element);\n",
              "          const docLink = document.createElement('div');\n",
              "          docLink.innerHTML = docLinkHtml;\n",
              "          element.appendChild(docLink);\n",
              "        }\n",
              "      </script>\n",
              "    </div>\n",
              "  </div>\n",
              "  "
            ]
          },
          "metadata": {},
          "execution_count": 3
        }
      ]
    },
    {
      "cell_type": "code",
      "source": [
        "lifeExp.head()"
      ],
      "metadata": {
        "colab": {
          "base_uri": "https://localhost:8080/",
          "height": 206
        },
        "id": "MPbQYPE6A6f1",
        "outputId": "3d739440-191d-49a1-c502-192500082ea2"
      },
      "execution_count": null,
      "outputs": [
        {
          "output_type": "execute_result",
          "data": {
            "text/plain": [
              "      State         Locality   FIPS  Census Tract Number  Life Expectancy  \\\n",
              "0  Virginia          (blank)  51000                  NaN             79.4   \n",
              "1  Virginia  Accomack County  51001                901.0             74.5   \n",
              "2  Virginia  Accomack County  51001                902.0             77.5   \n",
              "3  Virginia  Accomack County  51001                903.0             76.1   \n",
              "4  Virginia  Accomack County  51001                904.0             77.7   \n",
              "\n",
              "   Life Expectancy Standard Error  \n",
              "0                          0.0250  \n",
              "1                          1.5145  \n",
              "2                          1.1577  \n",
              "3                          3.4158  \n",
              "4                          1.2010  "
            ],
            "text/html": [
              "\n",
              "  <div id=\"df-4eecd9fe-6686-4515-b104-1d6886681f42\">\n",
              "    <div class=\"colab-df-container\">\n",
              "      <div>\n",
              "<style scoped>\n",
              "    .dataframe tbody tr th:only-of-type {\n",
              "        vertical-align: middle;\n",
              "    }\n",
              "\n",
              "    .dataframe tbody tr th {\n",
              "        vertical-align: top;\n",
              "    }\n",
              "\n",
              "    .dataframe thead th {\n",
              "        text-align: right;\n",
              "    }\n",
              "</style>\n",
              "<table border=\"1\" class=\"dataframe\">\n",
              "  <thead>\n",
              "    <tr style=\"text-align: right;\">\n",
              "      <th></th>\n",
              "      <th>State</th>\n",
              "      <th>Locality</th>\n",
              "      <th>FIPS</th>\n",
              "      <th>Census Tract Number</th>\n",
              "      <th>Life Expectancy</th>\n",
              "      <th>Life Expectancy Standard Error</th>\n",
              "    </tr>\n",
              "  </thead>\n",
              "  <tbody>\n",
              "    <tr>\n",
              "      <th>0</th>\n",
              "      <td>Virginia</td>\n",
              "      <td>(blank)</td>\n",
              "      <td>51000</td>\n",
              "      <td>NaN</td>\n",
              "      <td>79.4</td>\n",
              "      <td>0.0250</td>\n",
              "    </tr>\n",
              "    <tr>\n",
              "      <th>1</th>\n",
              "      <td>Virginia</td>\n",
              "      <td>Accomack County</td>\n",
              "      <td>51001</td>\n",
              "      <td>901.0</td>\n",
              "      <td>74.5</td>\n",
              "      <td>1.5145</td>\n",
              "    </tr>\n",
              "    <tr>\n",
              "      <th>2</th>\n",
              "      <td>Virginia</td>\n",
              "      <td>Accomack County</td>\n",
              "      <td>51001</td>\n",
              "      <td>902.0</td>\n",
              "      <td>77.5</td>\n",
              "      <td>1.1577</td>\n",
              "    </tr>\n",
              "    <tr>\n",
              "      <th>3</th>\n",
              "      <td>Virginia</td>\n",
              "      <td>Accomack County</td>\n",
              "      <td>51001</td>\n",
              "      <td>903.0</td>\n",
              "      <td>76.1</td>\n",
              "      <td>3.4158</td>\n",
              "    </tr>\n",
              "    <tr>\n",
              "      <th>4</th>\n",
              "      <td>Virginia</td>\n",
              "      <td>Accomack County</td>\n",
              "      <td>51001</td>\n",
              "      <td>904.0</td>\n",
              "      <td>77.7</td>\n",
              "      <td>1.2010</td>\n",
              "    </tr>\n",
              "  </tbody>\n",
              "</table>\n",
              "</div>\n",
              "      <button class=\"colab-df-convert\" onclick=\"convertToInteractive('df-4eecd9fe-6686-4515-b104-1d6886681f42')\"\n",
              "              title=\"Convert this dataframe to an interactive table.\"\n",
              "              style=\"display:none;\">\n",
              "        \n",
              "  <svg xmlns=\"http://www.w3.org/2000/svg\" height=\"24px\"viewBox=\"0 0 24 24\"\n",
              "       width=\"24px\">\n",
              "    <path d=\"M0 0h24v24H0V0z\" fill=\"none\"/>\n",
              "    <path d=\"M18.56 5.44l.94 2.06.94-2.06 2.06-.94-2.06-.94-.94-2.06-.94 2.06-2.06.94zm-11 1L8.5 8.5l.94-2.06 2.06-.94-2.06-.94L8.5 2.5l-.94 2.06-2.06.94zm10 10l.94 2.06.94-2.06 2.06-.94-2.06-.94-.94-2.06-.94 2.06-2.06.94z\"/><path d=\"M17.41 7.96l-1.37-1.37c-.4-.4-.92-.59-1.43-.59-.52 0-1.04.2-1.43.59L10.3 9.45l-7.72 7.72c-.78.78-.78 2.05 0 2.83L4 21.41c.39.39.9.59 1.41.59.51 0 1.02-.2 1.41-.59l7.78-7.78 2.81-2.81c.8-.78.8-2.07 0-2.86zM5.41 20L4 18.59l7.72-7.72 1.47 1.35L5.41 20z\"/>\n",
              "  </svg>\n",
              "      </button>\n",
              "      \n",
              "  <style>\n",
              "    .colab-df-container {\n",
              "      display:flex;\n",
              "      flex-wrap:wrap;\n",
              "      gap: 12px;\n",
              "    }\n",
              "\n",
              "    .colab-df-convert {\n",
              "      background-color: #E8F0FE;\n",
              "      border: none;\n",
              "      border-radius: 50%;\n",
              "      cursor: pointer;\n",
              "      display: none;\n",
              "      fill: #1967D2;\n",
              "      height: 32px;\n",
              "      padding: 0 0 0 0;\n",
              "      width: 32px;\n",
              "    }\n",
              "\n",
              "    .colab-df-convert:hover {\n",
              "      background-color: #E2EBFA;\n",
              "      box-shadow: 0px 1px 2px rgba(60, 64, 67, 0.3), 0px 1px 3px 1px rgba(60, 64, 67, 0.15);\n",
              "      fill: #174EA6;\n",
              "    }\n",
              "\n",
              "    [theme=dark] .colab-df-convert {\n",
              "      background-color: #3B4455;\n",
              "      fill: #D2E3FC;\n",
              "    }\n",
              "\n",
              "    [theme=dark] .colab-df-convert:hover {\n",
              "      background-color: #434B5C;\n",
              "      box-shadow: 0px 1px 3px 1px rgba(0, 0, 0, 0.15);\n",
              "      filter: drop-shadow(0px 1px 2px rgba(0, 0, 0, 0.3));\n",
              "      fill: #FFFFFF;\n",
              "    }\n",
              "  </style>\n",
              "\n",
              "      <script>\n",
              "        const buttonEl =\n",
              "          document.querySelector('#df-4eecd9fe-6686-4515-b104-1d6886681f42 button.colab-df-convert');\n",
              "        buttonEl.style.display =\n",
              "          google.colab.kernel.accessAllowed ? 'block' : 'none';\n",
              "\n",
              "        async function convertToInteractive(key) {\n",
              "          const element = document.querySelector('#df-4eecd9fe-6686-4515-b104-1d6886681f42');\n",
              "          const dataTable =\n",
              "            await google.colab.kernel.invokeFunction('convertToInteractive',\n",
              "                                                     [key], {});\n",
              "          if (!dataTable) return;\n",
              "\n",
              "          const docLinkHtml = 'Like what you see? Visit the ' +\n",
              "            '<a target=\"_blank\" href=https://colab.research.google.com/notebooks/data_table.ipynb>data table notebook</a>'\n",
              "            + ' to learn more about interactive tables.';\n",
              "          element.innerHTML = '';\n",
              "          dataTable['output_type'] = 'display_data';\n",
              "          await google.colab.output.renderOutput(dataTable, element);\n",
              "          const docLink = document.createElement('div');\n",
              "          docLink.innerHTML = docLinkHtml;\n",
              "          element.appendChild(docLink);\n",
              "        }\n",
              "      </script>\n",
              "    </div>\n",
              "  </div>\n",
              "  "
            ]
          },
          "metadata": {},
          "execution_count": 4
        }
      ]
    },
    {
      "cell_type": "code",
      "source": [
        "#Method to remove trailing 0 in tract number and remove the decimal to only leave the digits\n",
        "def convertTract(num):\n",
        "  numStr = str(num)\n",
        "  if numStr[-1] == \"0\":\n",
        "    numStr = numStr[0:len(numStr)-1]\n",
        "  numStr = numStr.replace('.','')\n",
        "  return numStr"
      ],
      "metadata": {
        "id": "yd56lNAIH0Zn"
      },
      "execution_count": null,
      "outputs": []
    },
    {
      "cell_type": "code",
      "source": [
        "#Drop any rows with NaN values and resets the index afterwards\n",
        "lifeExp = lifeExp.dropna()\n",
        "lifeExp = lifeExp.reset_index(drop = True)"
      ],
      "metadata": {
        "id": "tff9DDO1ItyQ"
      },
      "execution_count": null,
      "outputs": []
    },
    {
      "cell_type": "code",
      "source": [
        "#Creates a new column with the census tract digits as strings\n",
        "tempArray = []\n",
        "for i in range(len(lifeExp)):\n",
        "  s = convertTract(lifeExp['Census Tract Number'][i])\n",
        "  tempArray.append(s)\n",
        "\n",
        "lifeExp['Census Tract Number Digits'] = tempArray"
      ],
      "metadata": {
        "id": "uy2JV_dyKElq"
      },
      "execution_count": null,
      "outputs": []
    },
    {
      "cell_type": "code",
      "source": [
        "#Creates a new column with the full FIPS codes\n",
        "tempArray = []\n",
        "for i in range(len(lifeExp)):\n",
        "  fips = str(lifeExp['FIPS'][i])\n",
        "  fips = fips + '000000'\n",
        "\n",
        "  fipsCode = int(fips) + int(lifeExp['Census Tract Number Digits'][i])\n",
        "  tempArray.append(fipsCode)\n",
        "\n",
        "lifeExp['Census Tract'] = tempArray"
      ],
      "metadata": {
        "id": "EAcuBkUSNUuC"
      },
      "execution_count": null,
      "outputs": []
    },
    {
      "cell_type": "code",
      "source": [
        "#Merge the 2 datasets based on the census tract fips codes they have in common\n",
        "fullData = pd.merge(hoi, lifeExp, on='Census Tract')"
      ],
      "metadata": {
        "id": "AtHZKDL-PoL2"
      },
      "execution_count": null,
      "outputs": []
    },
    {
      "cell_type": "code",
      "source": [
        "fullData.drop(['FIPS','Census Tract Number','Life Expectancy Standard Error', 'Census Tract Number Digits'], axis = 1, inplace = True)"
      ],
      "metadata": {
        "id": "JUMsop3rVhFD"
      },
      "execution_count": null,
      "outputs": []
    },
    {
      "cell_type": "code",
      "source": [
        "fullData"
      ],
      "metadata": {
        "colab": {
          "base_uri": "https://localhost:8080/",
          "height": 731
        },
        "id": "O51czwPLP8WA",
        "outputId": "c47d87db-ee1e-48a7-84cd-0bb741356504"
      },
      "execution_count": null,
      "outputs": [
        {
          "output_type": "execute_result",
          "data": {
            "text/plain": [
              "     Census Tract Rural~Urban  Access to Care  Employment Accessibility  \\\n",
              "0     51013101403       Urban        0.466760                  0.122853   \n",
              "1     51121020201       Urban        0.371854                  0.079464   \n",
              "2     51013101802       Urban        0.434747                  0.131422   \n",
              "3     51013101702       Urban        0.417921                  0.124969   \n",
              "4     51191010502       Urban        0.370109                  0.068883   \n",
              "..            ...         ...             ...                       ...   \n",
              "856   51550021011       Urban        0.389754                  0.122914   \n",
              "857   51059431002       Urban        0.500215                  0.142495   \n",
              "858   51153901233       Urban        0.653177                  0.123813   \n",
              "859   51153901005       Urban        0.661008                  0.140759   \n",
              "860   51085320803       Urban        0.475858                  0.131939   \n",
              "\n",
              "     Affordability  Air Quality  Population Churning  Education  \\\n",
              "0         0.660661     0.783266             0.582697   0.902432   \n",
              "1         0.192192     0.889298             0.432570   0.892324   \n",
              "2         0.708709     0.767906             0.659033   0.888723   \n",
              "3         0.678679     0.709216             0.676845   0.858297   \n",
              "4         0.182182     0.837608             0.685751   0.670669   \n",
              "..             ...          ...                  ...        ...   \n",
              "856       0.690691     0.943812             0.912214   0.808100   \n",
              "857       0.693694     0.921067             0.949109   0.820499   \n",
              "858       0.707708     0.875726             0.909669   0.792357   \n",
              "859       0.681682     0.793776             0.891858   0.824851   \n",
              "860       0.725726     0.919054             0.930025   0.819782   \n",
              "\n",
              "     Food Accessibility  Income Inequality  ...  Material Deprivation  \\\n",
              "0              0.933302           0.475169  ...              0.386328   \n",
              "1              0.996297           0.251282  ...              0.284302   \n",
              "2              0.933302           0.475709  ...              0.302523   \n",
              "3              0.933302           0.336572  ...              0.244075   \n",
              "4              0.942139           0.256410  ...              0.299769   \n",
              "..                  ...                ...  ...                   ...   \n",
              "856            0.980990           0.624696  ...              0.622355   \n",
              "857            0.933302           0.660054  ...              0.615473   \n",
              "858            0.963917           0.613900  ...              0.709124   \n",
              "859            0.982599           0.636707  ...              0.692808   \n",
              "860            0.982576           0.588394  ...              0.735580   \n",
              "\n",
              "     Walkability  Community Environment Profile  Consumer Opportunity Profile  \\\n",
              "0       0.966011                       0.979486                      0.880676   \n",
              "1       0.233945                       0.541058                      0.609358   \n",
              "2       0.598746                       0.837732                      0.828389   \n",
              "3       0.656096                       0.751125                      0.789080   \n",
              "4       0.153523                       0.407921                      0.453114   \n",
              "..           ...                            ...                           ...   \n",
              "856     0.162683                       0.239709                      0.724436   \n",
              "857     0.143828                       0.270243                      0.710679   \n",
              "858     0.148771                       0.249682                      0.759295   \n",
              "859     0.124491                       0.276896                      0.766127   \n",
              "860     0.168913                       0.244246                      0.788192   \n",
              "\n",
              "     Economic Opportunity Profile  Wellness Disparity Profile  \\\n",
              "0                        0.346453                    0.370990   \n",
              "1                        0.177157                    0.281539   \n",
              "2                        0.361443                    0.375004   \n",
              "3                        0.291615                    0.344019   \n",
              "4                        0.174846                    0.235938   \n",
              "..                            ...                         ...   \n",
              "856                      0.360059                    0.590709   \n",
              "857                      0.420954                    0.531661   \n",
              "858                      0.372530                    0.621149   \n",
              "859                      0.390717                    0.601810   \n",
              "860                      0.373881                    0.561809   \n",
              "\n",
              "     Health Opportunity Index     State               Locality  \\\n",
              "0                    0.091417  Virginia       Arlington County   \n",
              "1                    0.167349  Virginia      Montgomery County   \n",
              "2                    0.191628  Virginia       Arlington County   \n",
              "3                    0.200976  Virginia       Arlington County   \n",
              "4                    0.204015  Virginia      Washington County   \n",
              "..                        ...       ...                    ...   \n",
              "856                  0.613450  Virginia     City of Chesapeake   \n",
              "857                  0.625536  Virginia         Fairfax County   \n",
              "858                  0.631906  Virginia  Prince William County   \n",
              "859                  0.634309  Virginia  Prince William County   \n",
              "860                  0.638278  Virginia         Hanover County   \n",
              "\n",
              "     Life Expectancy  \n",
              "0               80.7  \n",
              "1               78.9  \n",
              "2               80.9  \n",
              "3               80.9  \n",
              "4               72.7  \n",
              "..               ...  \n",
              "856             79.5  \n",
              "857             80.9  \n",
              "858             79.8  \n",
              "859             80.4  \n",
              "860             76.4  \n",
              "\n",
              "[861 rows x 23 columns]"
            ],
            "text/html": [
              "\n",
              "  <div id=\"df-91e21e34-961e-416f-8de8-37679657bd31\">\n",
              "    <div class=\"colab-df-container\">\n",
              "      <div>\n",
              "<style scoped>\n",
              "    .dataframe tbody tr th:only-of-type {\n",
              "        vertical-align: middle;\n",
              "    }\n",
              "\n",
              "    .dataframe tbody tr th {\n",
              "        vertical-align: top;\n",
              "    }\n",
              "\n",
              "    .dataframe thead th {\n",
              "        text-align: right;\n",
              "    }\n",
              "</style>\n",
              "<table border=\"1\" class=\"dataframe\">\n",
              "  <thead>\n",
              "    <tr style=\"text-align: right;\">\n",
              "      <th></th>\n",
              "      <th>Census Tract</th>\n",
              "      <th>Rural~Urban</th>\n",
              "      <th>Access to Care</th>\n",
              "      <th>Employment Accessibility</th>\n",
              "      <th>Affordability</th>\n",
              "      <th>Air Quality</th>\n",
              "      <th>Population Churning</th>\n",
              "      <th>Education</th>\n",
              "      <th>Food Accessibility</th>\n",
              "      <th>Income Inequality</th>\n",
              "      <th>...</th>\n",
              "      <th>Material Deprivation</th>\n",
              "      <th>Walkability</th>\n",
              "      <th>Community Environment Profile</th>\n",
              "      <th>Consumer Opportunity Profile</th>\n",
              "      <th>Economic Opportunity Profile</th>\n",
              "      <th>Wellness Disparity Profile</th>\n",
              "      <th>Health Opportunity Index</th>\n",
              "      <th>State</th>\n",
              "      <th>Locality</th>\n",
              "      <th>Life Expectancy</th>\n",
              "    </tr>\n",
              "  </thead>\n",
              "  <tbody>\n",
              "    <tr>\n",
              "      <th>0</th>\n",
              "      <td>51013101403</td>\n",
              "      <td>Urban</td>\n",
              "      <td>0.466760</td>\n",
              "      <td>0.122853</td>\n",
              "      <td>0.660661</td>\n",
              "      <td>0.783266</td>\n",
              "      <td>0.582697</td>\n",
              "      <td>0.902432</td>\n",
              "      <td>0.933302</td>\n",
              "      <td>0.475169</td>\n",
              "      <td>...</td>\n",
              "      <td>0.386328</td>\n",
              "      <td>0.966011</td>\n",
              "      <td>0.979486</td>\n",
              "      <td>0.880676</td>\n",
              "      <td>0.346453</td>\n",
              "      <td>0.370990</td>\n",
              "      <td>0.091417</td>\n",
              "      <td>Virginia</td>\n",
              "      <td>Arlington County</td>\n",
              "      <td>80.7</td>\n",
              "    </tr>\n",
              "    <tr>\n",
              "      <th>1</th>\n",
              "      <td>51121020201</td>\n",
              "      <td>Urban</td>\n",
              "      <td>0.371854</td>\n",
              "      <td>0.079464</td>\n",
              "      <td>0.192192</td>\n",
              "      <td>0.889298</td>\n",
              "      <td>0.432570</td>\n",
              "      <td>0.892324</td>\n",
              "      <td>0.996297</td>\n",
              "      <td>0.251282</td>\n",
              "      <td>...</td>\n",
              "      <td>0.284302</td>\n",
              "      <td>0.233945</td>\n",
              "      <td>0.541058</td>\n",
              "      <td>0.609358</td>\n",
              "      <td>0.177157</td>\n",
              "      <td>0.281539</td>\n",
              "      <td>0.167349</td>\n",
              "      <td>Virginia</td>\n",
              "      <td>Montgomery County</td>\n",
              "      <td>78.9</td>\n",
              "    </tr>\n",
              "    <tr>\n",
              "      <th>2</th>\n",
              "      <td>51013101802</td>\n",
              "      <td>Urban</td>\n",
              "      <td>0.434747</td>\n",
              "      <td>0.131422</td>\n",
              "      <td>0.708709</td>\n",
              "      <td>0.767906</td>\n",
              "      <td>0.659033</td>\n",
              "      <td>0.888723</td>\n",
              "      <td>0.933302</td>\n",
              "      <td>0.475709</td>\n",
              "      <td>...</td>\n",
              "      <td>0.302523</td>\n",
              "      <td>0.598746</td>\n",
              "      <td>0.837732</td>\n",
              "      <td>0.828389</td>\n",
              "      <td>0.361443</td>\n",
              "      <td>0.375004</td>\n",
              "      <td>0.191628</td>\n",
              "      <td>Virginia</td>\n",
              "      <td>Arlington County</td>\n",
              "      <td>80.9</td>\n",
              "    </tr>\n",
              "    <tr>\n",
              "      <th>3</th>\n",
              "      <td>51013101702</td>\n",
              "      <td>Urban</td>\n",
              "      <td>0.417921</td>\n",
              "      <td>0.124969</td>\n",
              "      <td>0.678679</td>\n",
              "      <td>0.709216</td>\n",
              "      <td>0.676845</td>\n",
              "      <td>0.858297</td>\n",
              "      <td>0.933302</td>\n",
              "      <td>0.336572</td>\n",
              "      <td>...</td>\n",
              "      <td>0.244075</td>\n",
              "      <td>0.656096</td>\n",
              "      <td>0.751125</td>\n",
              "      <td>0.789080</td>\n",
              "      <td>0.291615</td>\n",
              "      <td>0.344019</td>\n",
              "      <td>0.200976</td>\n",
              "      <td>Virginia</td>\n",
              "      <td>Arlington County</td>\n",
              "      <td>80.9</td>\n",
              "    </tr>\n",
              "    <tr>\n",
              "      <th>4</th>\n",
              "      <td>51191010502</td>\n",
              "      <td>Urban</td>\n",
              "      <td>0.370109</td>\n",
              "      <td>0.068883</td>\n",
              "      <td>0.182182</td>\n",
              "      <td>0.837608</td>\n",
              "      <td>0.685751</td>\n",
              "      <td>0.670669</td>\n",
              "      <td>0.942139</td>\n",
              "      <td>0.256410</td>\n",
              "      <td>...</td>\n",
              "      <td>0.299769</td>\n",
              "      <td>0.153523</td>\n",
              "      <td>0.407921</td>\n",
              "      <td>0.453114</td>\n",
              "      <td>0.174846</td>\n",
              "      <td>0.235938</td>\n",
              "      <td>0.204015</td>\n",
              "      <td>Virginia</td>\n",
              "      <td>Washington County</td>\n",
              "      <td>72.7</td>\n",
              "    </tr>\n",
              "    <tr>\n",
              "      <th>...</th>\n",
              "      <td>...</td>\n",
              "      <td>...</td>\n",
              "      <td>...</td>\n",
              "      <td>...</td>\n",
              "      <td>...</td>\n",
              "      <td>...</td>\n",
              "      <td>...</td>\n",
              "      <td>...</td>\n",
              "      <td>...</td>\n",
              "      <td>...</td>\n",
              "      <td>...</td>\n",
              "      <td>...</td>\n",
              "      <td>...</td>\n",
              "      <td>...</td>\n",
              "      <td>...</td>\n",
              "      <td>...</td>\n",
              "      <td>...</td>\n",
              "      <td>...</td>\n",
              "      <td>...</td>\n",
              "      <td>...</td>\n",
              "      <td>...</td>\n",
              "    </tr>\n",
              "    <tr>\n",
              "      <th>856</th>\n",
              "      <td>51550021011</td>\n",
              "      <td>Urban</td>\n",
              "      <td>0.389754</td>\n",
              "      <td>0.122914</td>\n",
              "      <td>0.690691</td>\n",
              "      <td>0.943812</td>\n",
              "      <td>0.912214</td>\n",
              "      <td>0.808100</td>\n",
              "      <td>0.980990</td>\n",
              "      <td>0.624696</td>\n",
              "      <td>...</td>\n",
              "      <td>0.622355</td>\n",
              "      <td>0.162683</td>\n",
              "      <td>0.239709</td>\n",
              "      <td>0.724436</td>\n",
              "      <td>0.360059</td>\n",
              "      <td>0.590709</td>\n",
              "      <td>0.613450</td>\n",
              "      <td>Virginia</td>\n",
              "      <td>City of Chesapeake</td>\n",
              "      <td>79.5</td>\n",
              "    </tr>\n",
              "    <tr>\n",
              "      <th>857</th>\n",
              "      <td>51059431002</td>\n",
              "      <td>Urban</td>\n",
              "      <td>0.500215</td>\n",
              "      <td>0.142495</td>\n",
              "      <td>0.693694</td>\n",
              "      <td>0.921067</td>\n",
              "      <td>0.949109</td>\n",
              "      <td>0.820499</td>\n",
              "      <td>0.933302</td>\n",
              "      <td>0.660054</td>\n",
              "      <td>...</td>\n",
              "      <td>0.615473</td>\n",
              "      <td>0.143828</td>\n",
              "      <td>0.270243</td>\n",
              "      <td>0.710679</td>\n",
              "      <td>0.420954</td>\n",
              "      <td>0.531661</td>\n",
              "      <td>0.625536</td>\n",
              "      <td>Virginia</td>\n",
              "      <td>Fairfax County</td>\n",
              "      <td>80.9</td>\n",
              "    </tr>\n",
              "    <tr>\n",
              "      <th>858</th>\n",
              "      <td>51153901233</td>\n",
              "      <td>Urban</td>\n",
              "      <td>0.653177</td>\n",
              "      <td>0.123813</td>\n",
              "      <td>0.707708</td>\n",
              "      <td>0.875726</td>\n",
              "      <td>0.909669</td>\n",
              "      <td>0.792357</td>\n",
              "      <td>0.963917</td>\n",
              "      <td>0.613900</td>\n",
              "      <td>...</td>\n",
              "      <td>0.709124</td>\n",
              "      <td>0.148771</td>\n",
              "      <td>0.249682</td>\n",
              "      <td>0.759295</td>\n",
              "      <td>0.372530</td>\n",
              "      <td>0.621149</td>\n",
              "      <td>0.631906</td>\n",
              "      <td>Virginia</td>\n",
              "      <td>Prince William County</td>\n",
              "      <td>79.8</td>\n",
              "    </tr>\n",
              "    <tr>\n",
              "      <th>859</th>\n",
              "      <td>51153901005</td>\n",
              "      <td>Urban</td>\n",
              "      <td>0.661008</td>\n",
              "      <td>0.140759</td>\n",
              "      <td>0.681682</td>\n",
              "      <td>0.793776</td>\n",
              "      <td>0.891858</td>\n",
              "      <td>0.824851</td>\n",
              "      <td>0.982599</td>\n",
              "      <td>0.636707</td>\n",
              "      <td>...</td>\n",
              "      <td>0.692808</td>\n",
              "      <td>0.124491</td>\n",
              "      <td>0.276896</td>\n",
              "      <td>0.766127</td>\n",
              "      <td>0.390717</td>\n",
              "      <td>0.601810</td>\n",
              "      <td>0.634309</td>\n",
              "      <td>Virginia</td>\n",
              "      <td>Prince William County</td>\n",
              "      <td>80.4</td>\n",
              "    </tr>\n",
              "    <tr>\n",
              "      <th>860</th>\n",
              "      <td>51085320803</td>\n",
              "      <td>Urban</td>\n",
              "      <td>0.475858</td>\n",
              "      <td>0.131939</td>\n",
              "      <td>0.725726</td>\n",
              "      <td>0.919054</td>\n",
              "      <td>0.930025</td>\n",
              "      <td>0.819782</td>\n",
              "      <td>0.982576</td>\n",
              "      <td>0.588394</td>\n",
              "      <td>...</td>\n",
              "      <td>0.735580</td>\n",
              "      <td>0.168913</td>\n",
              "      <td>0.244246</td>\n",
              "      <td>0.788192</td>\n",
              "      <td>0.373881</td>\n",
              "      <td>0.561809</td>\n",
              "      <td>0.638278</td>\n",
              "      <td>Virginia</td>\n",
              "      <td>Hanover County</td>\n",
              "      <td>76.4</td>\n",
              "    </tr>\n",
              "  </tbody>\n",
              "</table>\n",
              "<p>861 rows × 23 columns</p>\n",
              "</div>\n",
              "      <button class=\"colab-df-convert\" onclick=\"convertToInteractive('df-91e21e34-961e-416f-8de8-37679657bd31')\"\n",
              "              title=\"Convert this dataframe to an interactive table.\"\n",
              "              style=\"display:none;\">\n",
              "        \n",
              "  <svg xmlns=\"http://www.w3.org/2000/svg\" height=\"24px\"viewBox=\"0 0 24 24\"\n",
              "       width=\"24px\">\n",
              "    <path d=\"M0 0h24v24H0V0z\" fill=\"none\"/>\n",
              "    <path d=\"M18.56 5.44l.94 2.06.94-2.06 2.06-.94-2.06-.94-.94-2.06-.94 2.06-2.06.94zm-11 1L8.5 8.5l.94-2.06 2.06-.94-2.06-.94L8.5 2.5l-.94 2.06-2.06.94zm10 10l.94 2.06.94-2.06 2.06-.94-2.06-.94-.94-2.06-.94 2.06-2.06.94z\"/><path d=\"M17.41 7.96l-1.37-1.37c-.4-.4-.92-.59-1.43-.59-.52 0-1.04.2-1.43.59L10.3 9.45l-7.72 7.72c-.78.78-.78 2.05 0 2.83L4 21.41c.39.39.9.59 1.41.59.51 0 1.02-.2 1.41-.59l7.78-7.78 2.81-2.81c.8-.78.8-2.07 0-2.86zM5.41 20L4 18.59l7.72-7.72 1.47 1.35L5.41 20z\"/>\n",
              "  </svg>\n",
              "      </button>\n",
              "      \n",
              "  <style>\n",
              "    .colab-df-container {\n",
              "      display:flex;\n",
              "      flex-wrap:wrap;\n",
              "      gap: 12px;\n",
              "    }\n",
              "\n",
              "    .colab-df-convert {\n",
              "      background-color: #E8F0FE;\n",
              "      border: none;\n",
              "      border-radius: 50%;\n",
              "      cursor: pointer;\n",
              "      display: none;\n",
              "      fill: #1967D2;\n",
              "      height: 32px;\n",
              "      padding: 0 0 0 0;\n",
              "      width: 32px;\n",
              "    }\n",
              "\n",
              "    .colab-df-convert:hover {\n",
              "      background-color: #E2EBFA;\n",
              "      box-shadow: 0px 1px 2px rgba(60, 64, 67, 0.3), 0px 1px 3px 1px rgba(60, 64, 67, 0.15);\n",
              "      fill: #174EA6;\n",
              "    }\n",
              "\n",
              "    [theme=dark] .colab-df-convert {\n",
              "      background-color: #3B4455;\n",
              "      fill: #D2E3FC;\n",
              "    }\n",
              "\n",
              "    [theme=dark] .colab-df-convert:hover {\n",
              "      background-color: #434B5C;\n",
              "      box-shadow: 0px 1px 3px 1px rgba(0, 0, 0, 0.15);\n",
              "      filter: drop-shadow(0px 1px 2px rgba(0, 0, 0, 0.3));\n",
              "      fill: #FFFFFF;\n",
              "    }\n",
              "  </style>\n",
              "\n",
              "      <script>\n",
              "        const buttonEl =\n",
              "          document.querySelector('#df-91e21e34-961e-416f-8de8-37679657bd31 button.colab-df-convert');\n",
              "        buttonEl.style.display =\n",
              "          google.colab.kernel.accessAllowed ? 'block' : 'none';\n",
              "\n",
              "        async function convertToInteractive(key) {\n",
              "          const element = document.querySelector('#df-91e21e34-961e-416f-8de8-37679657bd31');\n",
              "          const dataTable =\n",
              "            await google.colab.kernel.invokeFunction('convertToInteractive',\n",
              "                                                     [key], {});\n",
              "          if (!dataTable) return;\n",
              "\n",
              "          const docLinkHtml = 'Like what you see? Visit the ' +\n",
              "            '<a target=\"_blank\" href=https://colab.research.google.com/notebooks/data_table.ipynb>data table notebook</a>'\n",
              "            + ' to learn more about interactive tables.';\n",
              "          element.innerHTML = '';\n",
              "          dataTable['output_type'] = 'display_data';\n",
              "          await google.colab.output.renderOutput(dataTable, element);\n",
              "          const docLink = document.createElement('div');\n",
              "          docLink.innerHTML = docLinkHtml;\n",
              "          element.appendChild(docLink);\n",
              "        }\n",
              "      </script>\n",
              "    </div>\n",
              "  </div>\n",
              "  "
            ]
          },
          "metadata": {},
          "execution_count": 11
        }
      ]
    },
    {
      "cell_type": "code",
      "source": [
        "#Here is the code for the data and actual project"
      ],
      "metadata": {
        "id": "NM191UIbiQbz"
      },
      "execution_count": null,
      "outputs": []
    },
    {
      "cell_type": "markdown",
      "source": [
        "Crunched on time, heres the code to start a simple linear regression, we can organize it later"
      ],
      "metadata": {
        "id": "YKRpraTsdWR2"
      }
    },
    {
      "cell_type": "code",
      "source": [
        "fullData.corr()"
      ],
      "metadata": {
        "colab": {
          "base_uri": "https://localhost:8080/",
          "height": 1000
        },
        "id": "COTsuKcEihoT",
        "outputId": "1f6e0f55-be9d-43c8-bd58-2f147355edff"
      },
      "execution_count": null,
      "outputs": [
        {
          "output_type": "execute_result",
          "data": {
            "text/plain": [
              "                               Census Tract  Access to Care  \\\n",
              "Census Tract                       1.000000       -0.101553   \n",
              "Access to Care                    -0.101553        1.000000   \n",
              "Employment Accessibility           0.217050        0.174927   \n",
              "Affordability                     -0.274574        0.102286   \n",
              "Air Quality                       -0.095797       -0.241885   \n",
              "Population Churning               -0.288376       -0.024942   \n",
              "Education                         -0.173096        0.155219   \n",
              "Food Accessibility                -0.059004        0.047246   \n",
              "Income Inequality                 -0.030739        0.009472   \n",
              "Job Participation                 -0.044878        0.181788   \n",
              "Population Density                 0.053454        0.099365   \n",
              "Segregation                       -0.028051        0.004721   \n",
              "Material Deprivation              -0.212761       -0.000611   \n",
              "Walkability                        0.286851        0.103322   \n",
              "Community Environment Profile      0.225648        0.133512   \n",
              "Consumer Opportunity Profile      -0.272304        0.153253   \n",
              "Economic Opportunity Profile       0.076913        0.149467   \n",
              "Wellness Disparity Profile        -0.054204        0.721690   \n",
              "Health Opportunity Index          -0.242221        0.258817   \n",
              "Life Expectancy                   -0.275855        0.127604   \n",
              "\n",
              "                               Employment Accessibility  Affordability  \\\n",
              "Census Tract                                   0.217050      -0.274574   \n",
              "Access to Care                                 0.174927       0.102286   \n",
              "Employment Accessibility                       1.000000       0.148547   \n",
              "Affordability                                  0.148547       1.000000   \n",
              "Air Quality                                   -0.205619       0.147145   \n",
              "Population Churning                           -0.124648       0.301555   \n",
              "Education                                      0.205088       0.720131   \n",
              "Food Accessibility                             0.040581       0.236850   \n",
              "Income Inequality                              0.315512       0.371452   \n",
              "Job Participation                              0.578782       0.323145   \n",
              "Population Density                             0.252585       0.078537   \n",
              "Segregation                                    0.054193       0.063837   \n",
              "Material Deprivation                           0.021448       0.607648   \n",
              "Walkability                                    0.313642       0.082831   \n",
              "Community Environment Profile                  0.271898      -0.132742   \n",
              "Consumer Opportunity Profile                   0.012975       0.849763   \n",
              "Economic Opportunity Profile                   0.742027       0.268344   \n",
              "Wellness Disparity Profile                     0.089301       0.029963   \n",
              "Health Opportunity Index                       0.233853       0.581156   \n",
              "Life Expectancy                                0.113947       0.646233   \n",
              "\n",
              "                               Air Quality  Population Churning  Education  \\\n",
              "Census Tract                     -0.095797            -0.288376  -0.173096   \n",
              "Access to Care                   -0.241885            -0.024942   0.155219   \n",
              "Employment Accessibility         -0.205619            -0.124648   0.205088   \n",
              "Affordability                     0.147145             0.301555   0.720131   \n",
              "Air Quality                       1.000000             0.237880  -0.001716   \n",
              "Population Churning               0.237880             1.000000   0.056493   \n",
              "Education                        -0.001716             0.056493   1.000000   \n",
              "Food Accessibility                0.030507             0.087803   0.222487   \n",
              "Income Inequality                 0.080957             0.140384   0.145495   \n",
              "Job Participation                -0.198527            -0.114245   0.283563   \n",
              "Population Density               -0.293198            -0.323118   0.200327   \n",
              "Segregation                      -0.000969             0.028417   0.039245   \n",
              "Material Deprivation              0.299885             0.508192   0.494881   \n",
              "Walkability                      -0.310749            -0.424650   0.315842   \n",
              "Community Environment Profile    -0.524040            -0.657965   0.151846   \n",
              "Consumer Opportunity Profile      0.094587             0.314793   0.850497   \n",
              "Economic Opportunity Profile     -0.003314            -0.009998   0.120426   \n",
              "Wellness Disparity Profile       -0.174685            -0.037753   0.085361   \n",
              "Health Opportunity Index          0.262918             0.586541   0.343976   \n",
              "Life Expectancy                   0.015143             0.158760   0.656399   \n",
              "\n",
              "                               Food Accessibility  Income Inequality  \\\n",
              "Census Tract                            -0.059004          -0.030739   \n",
              "Access to Care                           0.047246           0.009472   \n",
              "Employment Accessibility                 0.040581           0.315512   \n",
              "Affordability                            0.236850           0.371452   \n",
              "Air Quality                              0.030507           0.080957   \n",
              "Population Churning                      0.087803           0.140384   \n",
              "Education                                0.222487           0.145495   \n",
              "Food Accessibility                       1.000000           0.117935   \n",
              "Income Inequality                        0.117935           1.000000   \n",
              "Job Participation                        0.110582           0.409413   \n",
              "Population Density                       0.002299           0.030091   \n",
              "Segregation                              0.091104           0.043823   \n",
              "Material Deprivation                     0.196838           0.352046   \n",
              "Walkability                              0.063371          -0.028158   \n",
              "Community Environment Profile           -0.009147          -0.201656   \n",
              "Consumer Opportunity Profile             0.501222           0.157814   \n",
              "Economic Opportunity Profile            -0.061523           0.787819   \n",
              "Wellness Disparity Profile              -0.028813          -0.023469   \n",
              "Health Opportunity Index                 0.175768           0.554829   \n",
              "Life Expectancy                          0.237864           0.185906   \n",
              "\n",
              "                               Job Participation  Population Density  \\\n",
              "Census Tract                           -0.044878            0.053454   \n",
              "Access to Care                          0.181788            0.099365   \n",
              "Employment Accessibility                0.578782            0.252585   \n",
              "Affordability                           0.323145            0.078537   \n",
              "Air Quality                            -0.198527           -0.293198   \n",
              "Population Churning                    -0.114245           -0.323118   \n",
              "Education                               0.283563            0.200327   \n",
              "Food Accessibility                      0.110582            0.002299   \n",
              "Income Inequality                       0.409413            0.030091   \n",
              "Job Participation                       1.000000            0.386398   \n",
              "Population Density                      0.386398            1.000000   \n",
              "Segregation                             0.068581            0.048638   \n",
              "Material Deprivation                   -0.013987           -0.332270   \n",
              "Walkability                             0.353069            0.630983   \n",
              "Community Environment Profile           0.354718            0.796854   \n",
              "Consumer Opportunity Profile            0.179280            0.082231   \n",
              "Economic Opportunity Profile            0.743948            0.232876   \n",
              "Wellness Disparity Profile              0.084316            0.038368   \n",
              "Health Opportunity Index                0.230974           -0.412225   \n",
              "Life Expectancy                         0.237451            0.144265   \n",
              "\n",
              "                               Segregation  Material Deprivation  Walkability  \\\n",
              "Census Tract                     -0.028051             -0.212761     0.286851   \n",
              "Access to Care                    0.004721             -0.000611     0.103322   \n",
              "Employment Accessibility          0.054193              0.021448     0.313642   \n",
              "Affordability                     0.063837              0.607648     0.082831   \n",
              "Air Quality                      -0.000969              0.299885    -0.310749   \n",
              "Population Churning               0.028417              0.508192    -0.424650   \n",
              "Education                         0.039245              0.494881     0.315842   \n",
              "Food Accessibility                0.091104              0.196838     0.063371   \n",
              "Income Inequality                 0.043823              0.352046    -0.028158   \n",
              "Job Participation                 0.068581             -0.013987     0.353069   \n",
              "Population Density                0.048638             -0.332270     0.630983   \n",
              "Segregation                       1.000000              0.000044     0.010431   \n",
              "Material Deprivation              0.000044              1.000000    -0.282516   \n",
              "Walkability                       0.010431             -0.282516     1.000000   \n",
              "Community Environment Profile     0.162785             -0.590112     0.812265   \n",
              "Consumer Opportunity Profile      0.125292              0.683564     0.148133   \n",
              "Economic Opportunity Profile      0.071416              0.143508     0.185216   \n",
              "Wellness Disparity Profile       -0.688802             -0.000473     0.067683   \n",
              "Health Opportunity Index         -0.259205              0.760733    -0.381492   \n",
              "Life Expectancy                   0.044646              0.403099     0.129092   \n",
              "\n",
              "                               Community Environment Profile  \\\n",
              "Census Tract                                        0.225648   \n",
              "Access to Care                                      0.133512   \n",
              "Employment Accessibility                            0.271898   \n",
              "Affordability                                      -0.132742   \n",
              "Air Quality                                        -0.524040   \n",
              "Population Churning                                -0.657965   \n",
              "Education                                           0.151846   \n",
              "Food Accessibility                                 -0.009147   \n",
              "Income Inequality                                  -0.201656   \n",
              "Job Participation                                   0.354718   \n",
              "Population Density                                  0.796854   \n",
              "Segregation                                         0.162785   \n",
              "Material Deprivation                               -0.590112   \n",
              "Walkability                                         0.812265   \n",
              "Community Environment Profile                       1.000000   \n",
              "Consumer Opportunity Profile                       -0.071891   \n",
              "Economic Opportunity Profile                        0.076702   \n",
              "Wellness Disparity Profile                         -0.015893   \n",
              "Health Opportunity Index                           -0.680598   \n",
              "Life Expectancy                                     0.022329   \n",
              "\n",
              "                               Consumer Opportunity Profile  \\\n",
              "Census Tract                                      -0.272304   \n",
              "Access to Care                                     0.153253   \n",
              "Employment Accessibility                           0.012975   \n",
              "Affordability                                      0.849763   \n",
              "Air Quality                                        0.094587   \n",
              "Population Churning                                0.314793   \n",
              "Education                                          0.850497   \n",
              "Food Accessibility                                 0.501222   \n",
              "Income Inequality                                  0.157814   \n",
              "Job Participation                                  0.179280   \n",
              "Population Density                                 0.082231   \n",
              "Segregation                                        0.125292   \n",
              "Material Deprivation                               0.683564   \n",
              "Walkability                                        0.148133   \n",
              "Community Environment Profile                     -0.071891   \n",
              "Consumer Opportunity Profile                       1.000000   \n",
              "Economic Opportunity Profile                      -0.002735   \n",
              "Wellness Disparity Profile                         0.024372   \n",
              "Health Opportunity Index                           0.474662   \n",
              "Life Expectancy                                    0.667789   \n",
              "\n",
              "                               Economic Opportunity Profile  \\\n",
              "Census Tract                                       0.076913   \n",
              "Access to Care                                     0.149467   \n",
              "Employment Accessibility                           0.742027   \n",
              "Affordability                                      0.268344   \n",
              "Air Quality                                       -0.003314   \n",
              "Population Churning                               -0.009998   \n",
              "Education                                          0.120426   \n",
              "Food Accessibility                                -0.061523   \n",
              "Income Inequality                                  0.787819   \n",
              "Job Participation                                  0.743948   \n",
              "Population Density                                 0.232876   \n",
              "Segregation                                        0.071416   \n",
              "Material Deprivation                               0.143508   \n",
              "Walkability                                        0.185216   \n",
              "Community Environment Profile                      0.076702   \n",
              "Consumer Opportunity Profile                      -0.002735   \n",
              "Economic Opportunity Profile                       1.000000   \n",
              "Wellness Disparity Profile                         0.058921   \n",
              "Health Opportunity Index                           0.438236   \n",
              "Life Expectancy                                    0.122628   \n",
              "\n",
              "                               Wellness Disparity Profile  \\\n",
              "Census Tract                                    -0.054204   \n",
              "Access to Care                                   0.721690   \n",
              "Employment Accessibility                         0.089301   \n",
              "Affordability                                    0.029963   \n",
              "Air Quality                                     -0.174685   \n",
              "Population Churning                             -0.037753   \n",
              "Education                                        0.085361   \n",
              "Food Accessibility                              -0.028813   \n",
              "Income Inequality                               -0.023469   \n",
              "Job Participation                                0.084316   \n",
              "Population Density                               0.038368   \n",
              "Segregation                                     -0.688802   \n",
              "Material Deprivation                            -0.000473   \n",
              "Walkability                                      0.067683   \n",
              "Community Environment Profile                   -0.015893   \n",
              "Consumer Opportunity Profile                     0.024372   \n",
              "Economic Opportunity Profile                     0.058921   \n",
              "Wellness Disparity Profile                       1.000000   \n",
              "Health Opportunity Index                         0.367059   \n",
              "Life Expectancy                                  0.061602   \n",
              "\n",
              "                               Health Opportunity Index  Life Expectancy  \n",
              "Census Tract                                  -0.242221        -0.275855  \n",
              "Access to Care                                 0.258817         0.127604  \n",
              "Employment Accessibility                       0.233853         0.113947  \n",
              "Affordability                                  0.581156         0.646233  \n",
              "Air Quality                                    0.262918         0.015143  \n",
              "Population Churning                            0.586541         0.158760  \n",
              "Education                                      0.343976         0.656399  \n",
              "Food Accessibility                             0.175768         0.237864  \n",
              "Income Inequality                              0.554829         0.185906  \n",
              "Job Participation                              0.230974         0.237451  \n",
              "Population Density                            -0.412225         0.144265  \n",
              "Segregation                                   -0.259205         0.044646  \n",
              "Material Deprivation                           0.760733         0.403099  \n",
              "Walkability                                   -0.381492         0.129092  \n",
              "Community Environment Profile                 -0.680598         0.022329  \n",
              "Consumer Opportunity Profile                   0.474662         0.667789  \n",
              "Economic Opportunity Profile                   0.438236         0.122628  \n",
              "Wellness Disparity Profile                     0.367059         0.061602  \n",
              "Health Opportunity Index                       1.000000         0.344823  \n",
              "Life Expectancy                                0.344823         1.000000  "
            ],
            "text/html": [
              "\n",
              "  <div id=\"df-f4deddd3-4bd8-4629-8a8f-ca2c391ba0d2\">\n",
              "    <div class=\"colab-df-container\">\n",
              "      <div>\n",
              "<style scoped>\n",
              "    .dataframe tbody tr th:only-of-type {\n",
              "        vertical-align: middle;\n",
              "    }\n",
              "\n",
              "    .dataframe tbody tr th {\n",
              "        vertical-align: top;\n",
              "    }\n",
              "\n",
              "    .dataframe thead th {\n",
              "        text-align: right;\n",
              "    }\n",
              "</style>\n",
              "<table border=\"1\" class=\"dataframe\">\n",
              "  <thead>\n",
              "    <tr style=\"text-align: right;\">\n",
              "      <th></th>\n",
              "      <th>Census Tract</th>\n",
              "      <th>Access to Care</th>\n",
              "      <th>Employment Accessibility</th>\n",
              "      <th>Affordability</th>\n",
              "      <th>Air Quality</th>\n",
              "      <th>Population Churning</th>\n",
              "      <th>Education</th>\n",
              "      <th>Food Accessibility</th>\n",
              "      <th>Income Inequality</th>\n",
              "      <th>Job Participation</th>\n",
              "      <th>Population Density</th>\n",
              "      <th>Segregation</th>\n",
              "      <th>Material Deprivation</th>\n",
              "      <th>Walkability</th>\n",
              "      <th>Community Environment Profile</th>\n",
              "      <th>Consumer Opportunity Profile</th>\n",
              "      <th>Economic Opportunity Profile</th>\n",
              "      <th>Wellness Disparity Profile</th>\n",
              "      <th>Health Opportunity Index</th>\n",
              "      <th>Life Expectancy</th>\n",
              "    </tr>\n",
              "  </thead>\n",
              "  <tbody>\n",
              "    <tr>\n",
              "      <th>Census Tract</th>\n",
              "      <td>1.000000</td>\n",
              "      <td>-0.101553</td>\n",
              "      <td>0.217050</td>\n",
              "      <td>-0.274574</td>\n",
              "      <td>-0.095797</td>\n",
              "      <td>-0.288376</td>\n",
              "      <td>-0.173096</td>\n",
              "      <td>-0.059004</td>\n",
              "      <td>-0.030739</td>\n",
              "      <td>-0.044878</td>\n",
              "      <td>0.053454</td>\n",
              "      <td>-0.028051</td>\n",
              "      <td>-0.212761</td>\n",
              "      <td>0.286851</td>\n",
              "      <td>0.225648</td>\n",
              "      <td>-0.272304</td>\n",
              "      <td>0.076913</td>\n",
              "      <td>-0.054204</td>\n",
              "      <td>-0.242221</td>\n",
              "      <td>-0.275855</td>\n",
              "    </tr>\n",
              "    <tr>\n",
              "      <th>Access to Care</th>\n",
              "      <td>-0.101553</td>\n",
              "      <td>1.000000</td>\n",
              "      <td>0.174927</td>\n",
              "      <td>0.102286</td>\n",
              "      <td>-0.241885</td>\n",
              "      <td>-0.024942</td>\n",
              "      <td>0.155219</td>\n",
              "      <td>0.047246</td>\n",
              "      <td>0.009472</td>\n",
              "      <td>0.181788</td>\n",
              "      <td>0.099365</td>\n",
              "      <td>0.004721</td>\n",
              "      <td>-0.000611</td>\n",
              "      <td>0.103322</td>\n",
              "      <td>0.133512</td>\n",
              "      <td>0.153253</td>\n",
              "      <td>0.149467</td>\n",
              "      <td>0.721690</td>\n",
              "      <td>0.258817</td>\n",
              "      <td>0.127604</td>\n",
              "    </tr>\n",
              "    <tr>\n",
              "      <th>Employment Accessibility</th>\n",
              "      <td>0.217050</td>\n",
              "      <td>0.174927</td>\n",
              "      <td>1.000000</td>\n",
              "      <td>0.148547</td>\n",
              "      <td>-0.205619</td>\n",
              "      <td>-0.124648</td>\n",
              "      <td>0.205088</td>\n",
              "      <td>0.040581</td>\n",
              "      <td>0.315512</td>\n",
              "      <td>0.578782</td>\n",
              "      <td>0.252585</td>\n",
              "      <td>0.054193</td>\n",
              "      <td>0.021448</td>\n",
              "      <td>0.313642</td>\n",
              "      <td>0.271898</td>\n",
              "      <td>0.012975</td>\n",
              "      <td>0.742027</td>\n",
              "      <td>0.089301</td>\n",
              "      <td>0.233853</td>\n",
              "      <td>0.113947</td>\n",
              "    </tr>\n",
              "    <tr>\n",
              "      <th>Affordability</th>\n",
              "      <td>-0.274574</td>\n",
              "      <td>0.102286</td>\n",
              "      <td>0.148547</td>\n",
              "      <td>1.000000</td>\n",
              "      <td>0.147145</td>\n",
              "      <td>0.301555</td>\n",
              "      <td>0.720131</td>\n",
              "      <td>0.236850</td>\n",
              "      <td>0.371452</td>\n",
              "      <td>0.323145</td>\n",
              "      <td>0.078537</td>\n",
              "      <td>0.063837</td>\n",
              "      <td>0.607648</td>\n",
              "      <td>0.082831</td>\n",
              "      <td>-0.132742</td>\n",
              "      <td>0.849763</td>\n",
              "      <td>0.268344</td>\n",
              "      <td>0.029963</td>\n",
              "      <td>0.581156</td>\n",
              "      <td>0.646233</td>\n",
              "    </tr>\n",
              "    <tr>\n",
              "      <th>Air Quality</th>\n",
              "      <td>-0.095797</td>\n",
              "      <td>-0.241885</td>\n",
              "      <td>-0.205619</td>\n",
              "      <td>0.147145</td>\n",
              "      <td>1.000000</td>\n",
              "      <td>0.237880</td>\n",
              "      <td>-0.001716</td>\n",
              "      <td>0.030507</td>\n",
              "      <td>0.080957</td>\n",
              "      <td>-0.198527</td>\n",
              "      <td>-0.293198</td>\n",
              "      <td>-0.000969</td>\n",
              "      <td>0.299885</td>\n",
              "      <td>-0.310749</td>\n",
              "      <td>-0.524040</td>\n",
              "      <td>0.094587</td>\n",
              "      <td>-0.003314</td>\n",
              "      <td>-0.174685</td>\n",
              "      <td>0.262918</td>\n",
              "      <td>0.015143</td>\n",
              "    </tr>\n",
              "    <tr>\n",
              "      <th>Population Churning</th>\n",
              "      <td>-0.288376</td>\n",
              "      <td>-0.024942</td>\n",
              "      <td>-0.124648</td>\n",
              "      <td>0.301555</td>\n",
              "      <td>0.237880</td>\n",
              "      <td>1.000000</td>\n",
              "      <td>0.056493</td>\n",
              "      <td>0.087803</td>\n",
              "      <td>0.140384</td>\n",
              "      <td>-0.114245</td>\n",
              "      <td>-0.323118</td>\n",
              "      <td>0.028417</td>\n",
              "      <td>0.508192</td>\n",
              "      <td>-0.424650</td>\n",
              "      <td>-0.657965</td>\n",
              "      <td>0.314793</td>\n",
              "      <td>-0.009998</td>\n",
              "      <td>-0.037753</td>\n",
              "      <td>0.586541</td>\n",
              "      <td>0.158760</td>\n",
              "    </tr>\n",
              "    <tr>\n",
              "      <th>Education</th>\n",
              "      <td>-0.173096</td>\n",
              "      <td>0.155219</td>\n",
              "      <td>0.205088</td>\n",
              "      <td>0.720131</td>\n",
              "      <td>-0.001716</td>\n",
              "      <td>0.056493</td>\n",
              "      <td>1.000000</td>\n",
              "      <td>0.222487</td>\n",
              "      <td>0.145495</td>\n",
              "      <td>0.283563</td>\n",
              "      <td>0.200327</td>\n",
              "      <td>0.039245</td>\n",
              "      <td>0.494881</td>\n",
              "      <td>0.315842</td>\n",
              "      <td>0.151846</td>\n",
              "      <td>0.850497</td>\n",
              "      <td>0.120426</td>\n",
              "      <td>0.085361</td>\n",
              "      <td>0.343976</td>\n",
              "      <td>0.656399</td>\n",
              "    </tr>\n",
              "    <tr>\n",
              "      <th>Food Accessibility</th>\n",
              "      <td>-0.059004</td>\n",
              "      <td>0.047246</td>\n",
              "      <td>0.040581</td>\n",
              "      <td>0.236850</td>\n",
              "      <td>0.030507</td>\n",
              "      <td>0.087803</td>\n",
              "      <td>0.222487</td>\n",
              "      <td>1.000000</td>\n",
              "      <td>0.117935</td>\n",
              "      <td>0.110582</td>\n",
              "      <td>0.002299</td>\n",
              "      <td>0.091104</td>\n",
              "      <td>0.196838</td>\n",
              "      <td>0.063371</td>\n",
              "      <td>-0.009147</td>\n",
              "      <td>0.501222</td>\n",
              "      <td>-0.061523</td>\n",
              "      <td>-0.028813</td>\n",
              "      <td>0.175768</td>\n",
              "      <td>0.237864</td>\n",
              "    </tr>\n",
              "    <tr>\n",
              "      <th>Income Inequality</th>\n",
              "      <td>-0.030739</td>\n",
              "      <td>0.009472</td>\n",
              "      <td>0.315512</td>\n",
              "      <td>0.371452</td>\n",
              "      <td>0.080957</td>\n",
              "      <td>0.140384</td>\n",
              "      <td>0.145495</td>\n",
              "      <td>0.117935</td>\n",
              "      <td>1.000000</td>\n",
              "      <td>0.409413</td>\n",
              "      <td>0.030091</td>\n",
              "      <td>0.043823</td>\n",
              "      <td>0.352046</td>\n",
              "      <td>-0.028158</td>\n",
              "      <td>-0.201656</td>\n",
              "      <td>0.157814</td>\n",
              "      <td>0.787819</td>\n",
              "      <td>-0.023469</td>\n",
              "      <td>0.554829</td>\n",
              "      <td>0.185906</td>\n",
              "    </tr>\n",
              "    <tr>\n",
              "      <th>Job Participation</th>\n",
              "      <td>-0.044878</td>\n",
              "      <td>0.181788</td>\n",
              "      <td>0.578782</td>\n",
              "      <td>0.323145</td>\n",
              "      <td>-0.198527</td>\n",
              "      <td>-0.114245</td>\n",
              "      <td>0.283563</td>\n",
              "      <td>0.110582</td>\n",
              "      <td>0.409413</td>\n",
              "      <td>1.000000</td>\n",
              "      <td>0.386398</td>\n",
              "      <td>0.068581</td>\n",
              "      <td>-0.013987</td>\n",
              "      <td>0.353069</td>\n",
              "      <td>0.354718</td>\n",
              "      <td>0.179280</td>\n",
              "      <td>0.743948</td>\n",
              "      <td>0.084316</td>\n",
              "      <td>0.230974</td>\n",
              "      <td>0.237451</td>\n",
              "    </tr>\n",
              "    <tr>\n",
              "      <th>Population Density</th>\n",
              "      <td>0.053454</td>\n",
              "      <td>0.099365</td>\n",
              "      <td>0.252585</td>\n",
              "      <td>0.078537</td>\n",
              "      <td>-0.293198</td>\n",
              "      <td>-0.323118</td>\n",
              "      <td>0.200327</td>\n",
              "      <td>0.002299</td>\n",
              "      <td>0.030091</td>\n",
              "      <td>0.386398</td>\n",
              "      <td>1.000000</td>\n",
              "      <td>0.048638</td>\n",
              "      <td>-0.332270</td>\n",
              "      <td>0.630983</td>\n",
              "      <td>0.796854</td>\n",
              "      <td>0.082231</td>\n",
              "      <td>0.232876</td>\n",
              "      <td>0.038368</td>\n",
              "      <td>-0.412225</td>\n",
              "      <td>0.144265</td>\n",
              "    </tr>\n",
              "    <tr>\n",
              "      <th>Segregation</th>\n",
              "      <td>-0.028051</td>\n",
              "      <td>0.004721</td>\n",
              "      <td>0.054193</td>\n",
              "      <td>0.063837</td>\n",
              "      <td>-0.000969</td>\n",
              "      <td>0.028417</td>\n",
              "      <td>0.039245</td>\n",
              "      <td>0.091104</td>\n",
              "      <td>0.043823</td>\n",
              "      <td>0.068581</td>\n",
              "      <td>0.048638</td>\n",
              "      <td>1.000000</td>\n",
              "      <td>0.000044</td>\n",
              "      <td>0.010431</td>\n",
              "      <td>0.162785</td>\n",
              "      <td>0.125292</td>\n",
              "      <td>0.071416</td>\n",
              "      <td>-0.688802</td>\n",
              "      <td>-0.259205</td>\n",
              "      <td>0.044646</td>\n",
              "    </tr>\n",
              "    <tr>\n",
              "      <th>Material Deprivation</th>\n",
              "      <td>-0.212761</td>\n",
              "      <td>-0.000611</td>\n",
              "      <td>0.021448</td>\n",
              "      <td>0.607648</td>\n",
              "      <td>0.299885</td>\n",
              "      <td>0.508192</td>\n",
              "      <td>0.494881</td>\n",
              "      <td>0.196838</td>\n",
              "      <td>0.352046</td>\n",
              "      <td>-0.013987</td>\n",
              "      <td>-0.332270</td>\n",
              "      <td>0.000044</td>\n",
              "      <td>1.000000</td>\n",
              "      <td>-0.282516</td>\n",
              "      <td>-0.590112</td>\n",
              "      <td>0.683564</td>\n",
              "      <td>0.143508</td>\n",
              "      <td>-0.000473</td>\n",
              "      <td>0.760733</td>\n",
              "      <td>0.403099</td>\n",
              "    </tr>\n",
              "    <tr>\n",
              "      <th>Walkability</th>\n",
              "      <td>0.286851</td>\n",
              "      <td>0.103322</td>\n",
              "      <td>0.313642</td>\n",
              "      <td>0.082831</td>\n",
              "      <td>-0.310749</td>\n",
              "      <td>-0.424650</td>\n",
              "      <td>0.315842</td>\n",
              "      <td>0.063371</td>\n",
              "      <td>-0.028158</td>\n",
              "      <td>0.353069</td>\n",
              "      <td>0.630983</td>\n",
              "      <td>0.010431</td>\n",
              "      <td>-0.282516</td>\n",
              "      <td>1.000000</td>\n",
              "      <td>0.812265</td>\n",
              "      <td>0.148133</td>\n",
              "      <td>0.185216</td>\n",
              "      <td>0.067683</td>\n",
              "      <td>-0.381492</td>\n",
              "      <td>0.129092</td>\n",
              "    </tr>\n",
              "    <tr>\n",
              "      <th>Community Environment Profile</th>\n",
              "      <td>0.225648</td>\n",
              "      <td>0.133512</td>\n",
              "      <td>0.271898</td>\n",
              "      <td>-0.132742</td>\n",
              "      <td>-0.524040</td>\n",
              "      <td>-0.657965</td>\n",
              "      <td>0.151846</td>\n",
              "      <td>-0.009147</td>\n",
              "      <td>-0.201656</td>\n",
              "      <td>0.354718</td>\n",
              "      <td>0.796854</td>\n",
              "      <td>0.162785</td>\n",
              "      <td>-0.590112</td>\n",
              "      <td>0.812265</td>\n",
              "      <td>1.000000</td>\n",
              "      <td>-0.071891</td>\n",
              "      <td>0.076702</td>\n",
              "      <td>-0.015893</td>\n",
              "      <td>-0.680598</td>\n",
              "      <td>0.022329</td>\n",
              "    </tr>\n",
              "    <tr>\n",
              "      <th>Consumer Opportunity Profile</th>\n",
              "      <td>-0.272304</td>\n",
              "      <td>0.153253</td>\n",
              "      <td>0.012975</td>\n",
              "      <td>0.849763</td>\n",
              "      <td>0.094587</td>\n",
              "      <td>0.314793</td>\n",
              "      <td>0.850497</td>\n",
              "      <td>0.501222</td>\n",
              "      <td>0.157814</td>\n",
              "      <td>0.179280</td>\n",
              "      <td>0.082231</td>\n",
              "      <td>0.125292</td>\n",
              "      <td>0.683564</td>\n",
              "      <td>0.148133</td>\n",
              "      <td>-0.071891</td>\n",
              "      <td>1.000000</td>\n",
              "      <td>-0.002735</td>\n",
              "      <td>0.024372</td>\n",
              "      <td>0.474662</td>\n",
              "      <td>0.667789</td>\n",
              "    </tr>\n",
              "    <tr>\n",
              "      <th>Economic Opportunity Profile</th>\n",
              "      <td>0.076913</td>\n",
              "      <td>0.149467</td>\n",
              "      <td>0.742027</td>\n",
              "      <td>0.268344</td>\n",
              "      <td>-0.003314</td>\n",
              "      <td>-0.009998</td>\n",
              "      <td>0.120426</td>\n",
              "      <td>-0.061523</td>\n",
              "      <td>0.787819</td>\n",
              "      <td>0.743948</td>\n",
              "      <td>0.232876</td>\n",
              "      <td>0.071416</td>\n",
              "      <td>0.143508</td>\n",
              "      <td>0.185216</td>\n",
              "      <td>0.076702</td>\n",
              "      <td>-0.002735</td>\n",
              "      <td>1.000000</td>\n",
              "      <td>0.058921</td>\n",
              "      <td>0.438236</td>\n",
              "      <td>0.122628</td>\n",
              "    </tr>\n",
              "    <tr>\n",
              "      <th>Wellness Disparity Profile</th>\n",
              "      <td>-0.054204</td>\n",
              "      <td>0.721690</td>\n",
              "      <td>0.089301</td>\n",
              "      <td>0.029963</td>\n",
              "      <td>-0.174685</td>\n",
              "      <td>-0.037753</td>\n",
              "      <td>0.085361</td>\n",
              "      <td>-0.028813</td>\n",
              "      <td>-0.023469</td>\n",
              "      <td>0.084316</td>\n",
              "      <td>0.038368</td>\n",
              "      <td>-0.688802</td>\n",
              "      <td>-0.000473</td>\n",
              "      <td>0.067683</td>\n",
              "      <td>-0.015893</td>\n",
              "      <td>0.024372</td>\n",
              "      <td>0.058921</td>\n",
              "      <td>1.000000</td>\n",
              "      <td>0.367059</td>\n",
              "      <td>0.061602</td>\n",
              "    </tr>\n",
              "    <tr>\n",
              "      <th>Health Opportunity Index</th>\n",
              "      <td>-0.242221</td>\n",
              "      <td>0.258817</td>\n",
              "      <td>0.233853</td>\n",
              "      <td>0.581156</td>\n",
              "      <td>0.262918</td>\n",
              "      <td>0.586541</td>\n",
              "      <td>0.343976</td>\n",
              "      <td>0.175768</td>\n",
              "      <td>0.554829</td>\n",
              "      <td>0.230974</td>\n",
              "      <td>-0.412225</td>\n",
              "      <td>-0.259205</td>\n",
              "      <td>0.760733</td>\n",
              "      <td>-0.381492</td>\n",
              "      <td>-0.680598</td>\n",
              "      <td>0.474662</td>\n",
              "      <td>0.438236</td>\n",
              "      <td>0.367059</td>\n",
              "      <td>1.000000</td>\n",
              "      <td>0.344823</td>\n",
              "    </tr>\n",
              "    <tr>\n",
              "      <th>Life Expectancy</th>\n",
              "      <td>-0.275855</td>\n",
              "      <td>0.127604</td>\n",
              "      <td>0.113947</td>\n",
              "      <td>0.646233</td>\n",
              "      <td>0.015143</td>\n",
              "      <td>0.158760</td>\n",
              "      <td>0.656399</td>\n",
              "      <td>0.237864</td>\n",
              "      <td>0.185906</td>\n",
              "      <td>0.237451</td>\n",
              "      <td>0.144265</td>\n",
              "      <td>0.044646</td>\n",
              "      <td>0.403099</td>\n",
              "      <td>0.129092</td>\n",
              "      <td>0.022329</td>\n",
              "      <td>0.667789</td>\n",
              "      <td>0.122628</td>\n",
              "      <td>0.061602</td>\n",
              "      <td>0.344823</td>\n",
              "      <td>1.000000</td>\n",
              "    </tr>\n",
              "  </tbody>\n",
              "</table>\n",
              "</div>\n",
              "      <button class=\"colab-df-convert\" onclick=\"convertToInteractive('df-f4deddd3-4bd8-4629-8a8f-ca2c391ba0d2')\"\n",
              "              title=\"Convert this dataframe to an interactive table.\"\n",
              "              style=\"display:none;\">\n",
              "        \n",
              "  <svg xmlns=\"http://www.w3.org/2000/svg\" height=\"24px\"viewBox=\"0 0 24 24\"\n",
              "       width=\"24px\">\n",
              "    <path d=\"M0 0h24v24H0V0z\" fill=\"none\"/>\n",
              "    <path d=\"M18.56 5.44l.94 2.06.94-2.06 2.06-.94-2.06-.94-.94-2.06-.94 2.06-2.06.94zm-11 1L8.5 8.5l.94-2.06 2.06-.94-2.06-.94L8.5 2.5l-.94 2.06-2.06.94zm10 10l.94 2.06.94-2.06 2.06-.94-2.06-.94-.94-2.06-.94 2.06-2.06.94z\"/><path d=\"M17.41 7.96l-1.37-1.37c-.4-.4-.92-.59-1.43-.59-.52 0-1.04.2-1.43.59L10.3 9.45l-7.72 7.72c-.78.78-.78 2.05 0 2.83L4 21.41c.39.39.9.59 1.41.59.51 0 1.02-.2 1.41-.59l7.78-7.78 2.81-2.81c.8-.78.8-2.07 0-2.86zM5.41 20L4 18.59l7.72-7.72 1.47 1.35L5.41 20z\"/>\n",
              "  </svg>\n",
              "      </button>\n",
              "      \n",
              "  <style>\n",
              "    .colab-df-container {\n",
              "      display:flex;\n",
              "      flex-wrap:wrap;\n",
              "      gap: 12px;\n",
              "    }\n",
              "\n",
              "    .colab-df-convert {\n",
              "      background-color: #E8F0FE;\n",
              "      border: none;\n",
              "      border-radius: 50%;\n",
              "      cursor: pointer;\n",
              "      display: none;\n",
              "      fill: #1967D2;\n",
              "      height: 32px;\n",
              "      padding: 0 0 0 0;\n",
              "      width: 32px;\n",
              "    }\n",
              "\n",
              "    .colab-df-convert:hover {\n",
              "      background-color: #E2EBFA;\n",
              "      box-shadow: 0px 1px 2px rgba(60, 64, 67, 0.3), 0px 1px 3px 1px rgba(60, 64, 67, 0.15);\n",
              "      fill: #174EA6;\n",
              "    }\n",
              "\n",
              "    [theme=dark] .colab-df-convert {\n",
              "      background-color: #3B4455;\n",
              "      fill: #D2E3FC;\n",
              "    }\n",
              "\n",
              "    [theme=dark] .colab-df-convert:hover {\n",
              "      background-color: #434B5C;\n",
              "      box-shadow: 0px 1px 3px 1px rgba(0, 0, 0, 0.15);\n",
              "      filter: drop-shadow(0px 1px 2px rgba(0, 0, 0, 0.3));\n",
              "      fill: #FFFFFF;\n",
              "    }\n",
              "  </style>\n",
              "\n",
              "      <script>\n",
              "        const buttonEl =\n",
              "          document.querySelector('#df-f4deddd3-4bd8-4629-8a8f-ca2c391ba0d2 button.colab-df-convert');\n",
              "        buttonEl.style.display =\n",
              "          google.colab.kernel.accessAllowed ? 'block' : 'none';\n",
              "\n",
              "        async function convertToInteractive(key) {\n",
              "          const element = document.querySelector('#df-f4deddd3-4bd8-4629-8a8f-ca2c391ba0d2');\n",
              "          const dataTable =\n",
              "            await google.colab.kernel.invokeFunction('convertToInteractive',\n",
              "                                                     [key], {});\n",
              "          if (!dataTable) return;\n",
              "\n",
              "          const docLinkHtml = 'Like what you see? Visit the ' +\n",
              "            '<a target=\"_blank\" href=https://colab.research.google.com/notebooks/data_table.ipynb>data table notebook</a>'\n",
              "            + ' to learn more about interactive tables.';\n",
              "          element.innerHTML = '';\n",
              "          dataTable['output_type'] = 'display_data';\n",
              "          await google.colab.output.renderOutput(dataTable, element);\n",
              "          const docLink = document.createElement('div');\n",
              "          docLink.innerHTML = docLinkHtml;\n",
              "          element.appendChild(docLink);\n",
              "        }\n",
              "      </script>\n",
              "    </div>\n",
              "  </div>\n",
              "  "
            ]
          },
          "metadata": {},
          "execution_count": 13
        }
      ]
    },
    {
      "cell_type": "code",
      "source": [
        "fullData.plot(x=\"Affordability\", y=\"Life Expectancy\", style=\"o\")"
      ],
      "metadata": {
        "colab": {
          "base_uri": "https://localhost:8080/",
          "height": 300
        },
        "id": "u8Yp8uEFgWcM",
        "outputId": "cc77a2a2-c1ac-4ef5-cb2e-932f1137a425"
      },
      "execution_count": null,
      "outputs": [
        {
          "output_type": "execute_result",
          "data": {
            "text/plain": [
              "<matplotlib.axes._subplots.AxesSubplot at 0x7f4176644d00>"
            ]
          },
          "metadata": {},
          "execution_count": 15
        },
        {
          "output_type": "display_data",
          "data": {
            "text/plain": [
              "<Figure size 432x288 with 1 Axes>"
            ],
            "image/png": "[encoded data removed]"
          },
          "metadata": {
            "needs_background": "light"
          }
        }
      ]
    },
    {
      "cell_type": "code",
      "source": [
        "fullData.plot(x=\"Education\", y=\"Life Expectancy\", style=\"o\")"
      ],
      "metadata": {
        "colab": {
          "base_uri": "https://localhost:8080/",
          "height": 300
        },
        "id": "EoAFCquyhOQg",
        "outputId": "438c69fe-40a8-49c2-a082-4b1a65c652e9"
      },
      "execution_count": null,
      "outputs": [
        {
          "output_type": "execute_result",
          "data": {
            "text/plain": [
              "<matplotlib.axes._subplots.AxesSubplot at 0x7f417610abe0>"
            ]
          },
          "metadata": {},
          "execution_count": 16
        },
        {
          "output_type": "display_data",
          "data": {
            "text/plain": [
              "<Figure size 432x288 with 1 Axes>"
            ],
            "image/png": "[encoded data removed]"
          },
          "metadata": {
            "needs_background": "light"
          }
        }
      ]
    },
    {
      "cell_type": "code",
      "source": [
        "fullData.plot(x=\"Consumer Opportunity Profile\", y=\"Life Expectancy\", style=\"o\")"
      ],
      "metadata": {
        "id": "oLj-8j8phzGF",
        "outputId": "d57003db-67ec-4fb1-f0e5-5b8130671517",
        "colab": {
          "base_uri": "https://localhost:8080/",
          "height": 300
        }
      },
      "execution_count": null,
      "outputs": [
        {
          "output_type": "execute_result",
          "data": {
            "text/plain": [
              "<matplotlib.axes._subplots.AxesSubplot at 0x7f41760e2bb0>"
            ]
          },
          "metadata": {},
          "execution_count": 17
        },
        {
          "output_type": "display_data",
          "data": {
            "text/plain": [
              "<Figure size 432x288 with 1 Axes>"
            ],
            "image/png": "[encoded data removed]"
          },
          "metadata": {
            "needs_background": "light"
          }
        }
      ]
    },
    {
      "cell_type": "code",
      "source": [
        "fullData.drop(['Census Tract'], axis = 1, inplace = True)"
      ],
      "metadata": {
        "id": "4VWASfwFDQGM"
      },
      "execution_count": null,
      "outputs": []
    },
    {
      "cell_type": "code",
      "source": [
        "from sklearn.model_selection import train_test_split\n",
        "train_set, test_set = train_test_split(fullData, test_size=0.2, random_state=42)\n",
        "\n",
        "train_labels = train_set['Life Expectancy']\n",
        "test_labels = test_set['Life Expectancy']\n",
        "\n",
        "train_set = train_set.drop(['Life Expectancy'], axis = 1)\n",
        "test_set = test_set.drop(['Life Expectancy'], axis = 1)"
      ],
      "metadata": {
        "id": "Li8DpcuodcmX"
      },
      "execution_count": null,
      "outputs": []
    },
    {
      "cell_type": "code",
      "source": [
        "from sklearn.impute import SimpleImputer\n",
        "from sklearn.pipeline import Pipeline\n",
        "from sklearn.preprocessing import StandardScaler\n",
        "\n",
        "num_training = train_set._get_numeric_data()\n",
        "numeric_columns = num_training.columns\n",
        "cat_training = train_set.drop(numeric_columns, axis = 1)\n",
        "\n",
        "num_pipeline = Pipeline([\n",
        "        ('imputer', SimpleImputer()),\n",
        "        ('std_scaler', StandardScaler()),\n",
        "    ])\n",
        "\n",
        "from sklearn.compose import ColumnTransformer\n",
        "from sklearn.preprocessing import OneHotEncoder\n",
        "\n",
        "num_attribs = list(num_training)\n",
        "cat_attribs = list(cat_training)\n",
        "\n",
        "full_pipeline = ColumnTransformer([\n",
        "        (\"num\", num_pipeline, num_attribs),\n",
        "        (\"cat\", OneHotEncoder(handle_unknown = 'ignore'), cat_attribs),\n",
        "    ])\n",
        "\n",
        "train_prepared = full_pipeline.fit_transform(train_set)\n",
        "test_prepared = full_pipeline.transform(test_set)"
      ],
      "metadata": {
        "id": "--fcUQEge2au"
      },
      "execution_count": null,
      "outputs": []
    },
    {
      "cell_type": "markdown",
      "source": [
        "Linear Regression Model"
      ],
      "metadata": {
        "id": "ez6ulAWCMYCb"
      }
    },
    {
      "cell_type": "code",
      "source": [
        "from sklearn.linear_model import LinearRegression\n",
        "\n",
        "lin_reg = LinearRegression()\n",
        "lin_reg.fit(train_prepared, train_labels)"
      ],
      "metadata": {
        "colab": {
          "base_uri": "https://localhost:8080/"
        },
        "id": "Lua68tWkg_uz",
        "outputId": "2620f31b-49fe-457a-cc08-28959e02354d"
      },
      "execution_count": null,
      "outputs": [
        {
          "output_type": "execute_result",
          "data": {
            "text/plain": [
              "LinearRegression()"
            ]
          },
          "metadata": {},
          "execution_count": 21
        }
      ]
    },
    {
      "cell_type": "code",
      "source": [
        "from sklearn.metrics import mean_squared_error\n",
        "\n",
        "lin_pred = lin_reg.predict(test_prepared)\n",
        "mean_squared_error(test_labels, lin_pred)"
      ],
      "metadata": {
        "colab": {
          "base_uri": "https://localhost:8080/"
        },
        "id": "_YDkYb-YhTCg",
        "outputId": "abdb8169-021d-4c19-d3e5-e6068c5b153f"
      },
      "execution_count": null,
      "outputs": [
        {
          "output_type": "execute_result",
          "data": {
            "text/plain": [
              "5.334781473847382"
            ]
          },
          "metadata": {},
          "execution_count": 22
        }
      ]
    },
    {
      "cell_type": "code",
      "source": [
        "from sklearn.metrics import mean_squared_error\n",
        "from sklearn.model_selection import cross_val_score\n",
        "\n",
        "scores = cross_val_score(lin_reg, train_prepared, train_labels,\n",
        "                         scoring=\"neg_mean_squared_error\", cv=5)\n",
        "lin_rmse_scores = np.sqrt(-scores)\n",
        "print(\"Scores:\", lin_rmse_scores)\n",
        "print(\"Mean RMSE:\", lin_rmse_scores.mean())\n",
        "print(\"Standard deviation:\", lin_rmse_scores.std())"
      ],
      "metadata": {
        "colab": {
          "base_uri": "https://localhost:8080/"
        },
        "id": "HEWl8Y9BWuBD",
        "outputId": "7f0dbdd8-45f2-4f8a-e6a8-e6a2fb15fe32"
      },
      "execution_count": null,
      "outputs": [
        {
          "output_type": "stream",
          "name": "stdout",
          "text": [
            "Scores: [2.6518325  2.50999144 2.29471603 2.30367589 2.50364828]\n",
            "Mean RMSE: 2.452772829082511\n",
            "Standard deviation: 0.13616084734967435\n"
          ]
        }
      ]
    },
    {
      "cell_type": "code",
      "source": [
        "import matplotlib.pyplot as plt\n",
        "plt.scatter(lin_pred, test_labels)\n",
        "plt.xlabel(\"Predicted Life Expectancy\")\n",
        "plt.ylabel(\"True Life Expectancy\")\n",
        "plt.title(\"Linear Regressor Prediction\")"
      ],
      "metadata": {
        "id": "CyV2bCNOiBKH",
        "colab": {
          "base_uri": "https://localhost:8080/",
          "height": 312
        },
        "outputId": "69916481-907a-42fd-aa27-67e233f3dc76"
      },
      "execution_count": null,
      "outputs": [
        {
          "output_type": "execute_result",
          "data": {
            "text/plain": [
              "Text(0.5, 1.0, 'Linear Regressor Prediction')"
            ]
          },
          "metadata": {},
          "execution_count": 26
        },
        {
          "output_type": "display_data",
          "data": {
            "text/plain": [
              "<Figure size 432x288 with 1 Axes>"
            ],
            "image/png": "[encoded data removed]"
          },
          "metadata": {
            "needs_background": "light"
          }
        }
      ]
    },
    {
      "cell_type": "markdown",
      "source": [
        "Decision Tree Regressor"
      ],
      "metadata": {
        "id": "KtMAS6OeMyj4"
      }
    },
    {
      "cell_type": "code",
      "source": [
        "from sklearn.tree import DecisionTreeRegressor\n",
        "\n",
        "tree_reg = DecisionTreeRegressor(random_state=42)\n",
        "tree_reg.fit(train_prepared, train_labels)"
      ],
      "metadata": {
        "id": "wehWfbRqMtdF",
        "colab": {
          "base_uri": "https://localhost:8080/"
        },
        "outputId": "52a5d905-7cd3-4068-e77f-61f2adc1f58f"
      },
      "execution_count": null,
      "outputs": [
        {
          "output_type": "execute_result",
          "data": {
            "text/plain": [
              "DecisionTreeRegressor(random_state=42)"
            ]
          },
          "metadata": {},
          "execution_count": 27
        }
      ]
    },
    {
      "cell_type": "code",
      "source": [
        "from sklearn.metrics import mean_squared_error\n",
        "from sklearn.model_selection import cross_val_score\n",
        "\n",
        "scores = cross_val_score(tree_reg, train_prepared, train_labels,\n",
        "                         scoring=\"neg_mean_squared_error\", cv=5)\n",
        "tree_rmse_scores = np.sqrt(-scores)\n",
        "print(\"Scores:\", tree_rmse_scores)\n",
        "print(\"Mean RMSE:\", tree_rmse_scores.mean())\n",
        "print(\"Standard deviation:\", tree_rmse_scores.std())"
      ],
      "metadata": {
        "id": "LUekZxVUPv5a",
        "colab": {
          "base_uri": "https://localhost:8080/"
        },
        "outputId": "5c5239af-f31f-458b-a2bf-2a3f5b2e2f76"
      },
      "execution_count": null,
      "outputs": [
        {
          "output_type": "stream",
          "name": "stdout",
          "text": [
            "Scores: [2.99406418 3.48834498 3.45801945 3.28995374 3.33024188]\n",
            "Mean RMSE: 3.3121248462669315\n",
            "Standard deviation: 0.1756821836537344\n"
          ]
        }
      ]
    },
    {
      "cell_type": "code",
      "source": [
        "from sklearn.model_selection import cross_val_score\n",
        "\n",
        "scores = cross_val_score(tree_reg, train_prepared, train_labels,\n",
        "                         scoring=\"neg_mean_squared_error\", cv=5)\n",
        "tree_rmse_scores = np.sqrt(-scores)\n",
        "print(\"Scores:\", tree_rmse_scores)\n",
        "print(\"Mean RMSE:\", tree_rmse_scores.mean())\n",
        "print(\"Standard deviation:\", tree_rmse_scores.std())"
      ],
      "metadata": {
        "id": "0dEHKjb5M5na",
        "colab": {
          "base_uri": "https://localhost:8080/"
        },
        "outputId": "f672acf6-de04-4aa1-d5a1-c163fb3dc995"
      },
      "execution_count": null,
      "outputs": [
        {
          "output_type": "stream",
          "name": "stdout",
          "text": [
            "Scores: [2.99406418 3.48834498 3.45801945 3.28995374 3.33024188]\n",
            "Mean RMSE: 3.3121248462669315\n",
            "Standard deviation: 0.1756821836537344\n"
          ]
        }
      ]
    },
    {
      "cell_type": "code",
      "source": [
        "tree_pred = tree_reg.predict(test_prepared)"
      ],
      "metadata": {
        "id": "sreVyMejW6DI"
      },
      "execution_count": null,
      "outputs": []
    },
    {
      "cell_type": "code",
      "source": [
        "import matplotlib.pyplot as plt\n",
        "plt.scatter(tree_pred, test_labels)\n",
        "plt.xlabel(\"Predicted Life Expectancy\")\n",
        "plt.ylabel(\"True Life Expectancy\")\n",
        "plt.title(\"Decision Tree Regressor Prediction\")\n",
        "plt.xlim([70, 90])\n",
        "plt.ylim([70, 90])"
      ],
      "metadata": {
        "id": "UhH7xynrNt1y",
        "colab": {
          "base_uri": "https://localhost:8080/",
          "height": 312
        },
        "outputId": "e1d45a17-79e1-46f2-dcf4-2f927fa4342f"
      },
      "execution_count": null,
      "outputs": [
        {
          "output_type": "execute_result",
          "data": {
            "text/plain": [
              "(70.0, 90.0)"
            ]
          },
          "metadata": {},
          "execution_count": 36
        },
        {
          "output_type": "display_data",
          "data": {
            "text/plain": [
              "<Figure size 432x288 with 1 Axes>"
            ],
            "image/png": "[encoded data removed]"
          },
          "metadata": {
            "needs_background": "light"
          }
        }
      ]
    },
    {
      "cell_type": "markdown",
      "source": [
        "Random Forest Regressor"
      ],
      "metadata": {
        "id": "nVoU7MbCPXFF"
      }
    },
    {
      "cell_type": "code",
      "source": [
        "#For Random Forest Regressor\n",
        "from sklearn.ensemble import RandomForestRegressor\n",
        "\n",
        "forest_reg = RandomForestRegressor(n_estimators=100, random_state=42)\n",
        "forest_reg.fit(train_prepared, train_labels)"
      ],
      "metadata": {
        "id": "eJi-tMcaPZbE",
        "colab": {
          "base_uri": "https://localhost:8080/"
        },
        "outputId": "2ad34511-3a35-4da9-ac44-64fe32dfba2f"
      },
      "execution_count": null,
      "outputs": [
        {
          "output_type": "execute_result",
          "data": {
            "text/plain": [
              "RandomForestRegressor(random_state=42)"
            ]
          },
          "metadata": {},
          "execution_count": 37
        }
      ]
    },
    {
      "cell_type": "code",
      "source": [
        "random_forest_pred = forest_reg.predict(test_prepared)\n",
        "forest_mse = mean_squared_error(test_labels,random_forest_pred)\n",
        "forest_rmse = np.sqrt(forest_mse)\n",
        "forest_rmse"
      ],
      "metadata": {
        "id": "JrUHhMohPfbJ",
        "colab": {
          "base_uri": "https://localhost:8080/"
        },
        "outputId": "47bc5194-849f-48ab-edd1-37a321e92561"
      },
      "execution_count": null,
      "outputs": [
        {
          "output_type": "execute_result",
          "data": {
            "text/plain": [
              "2.1723752829431167"
            ]
          },
          "metadata": {},
          "execution_count": 38
        }
      ]
    },
    {
      "cell_type": "code",
      "source": [
        "from sklearn.model_selection import cross_val_score\n",
        "\n",
        "scores = cross_val_score(forest_reg, train_prepared, train_labels,\n",
        "                         scoring=\"neg_mean_squared_error\", cv=5)\n",
        "forest_rmse_scores = np.sqrt(-scores)\n",
        "print(\"Scores:\", forest_rmse_scores)\n",
        "print(\"Mean RMSE:\", forest_rmse_scores.mean())\n",
        "print(\"Standard deviation:\", forest_rmse_scores.std())"
      ],
      "metadata": {
        "id": "SkdTfXV9QUgo",
        "colab": {
          "base_uri": "https://localhost:8080/"
        },
        "outputId": "cc46ac15-7b32-4cd8-fd26-2d299283734e"
      },
      "execution_count": null,
      "outputs": [
        {
          "output_type": "stream",
          "name": "stdout",
          "text": [
            "Scores: [2.41143299 2.34655256 2.28742723 2.21720675 2.47893222]\n",
            "Mean RMSE: 2.348310347027794\n",
            "Standard deviation: 0.09159098094365435\n"
          ]
        }
      ]
    },
    {
      "cell_type": "code",
      "source": [
        "from sklearn.model_selection import GridSearchCV\n",
        "\n",
        "param_grid = [\n",
        "    # try 12 (3×4) combinations of hyperparameters\n",
        "    {'n_estimators': [1, 2, 3, 4, 5, 6, 7 ,8, 9 , 10, 11, 12, 13, 14, 15, 20, 25, 50, 75, 100], 'max_features': [2, 4, 6, 8, 10, 12, 14, 16, 18, 20, 21]}\n",
        "  ]\n",
        "\n",
        "forest_reg = RandomForestRegressor(random_state=42)\n",
        "# train across 5 folds, that's a total of 90 rounds of training\n",
        "grid_search = GridSearchCV(forest_reg, param_grid, cv=5,\n",
        "                           scoring='neg_mean_squared_error',\n",
        "                           return_train_score=True)\n",
        "grid_search.fit(train_prepared, train_labels)"
      ],
      "metadata": {
        "id": "nUbJt2yiFfBx",
        "colab": {
          "base_uri": "https://localhost:8080/"
        },
        "outputId": "865726f3-fe23-4d3b-cfcf-f87aac963a74"
      },
      "execution_count": null,
      "outputs": [
        {
          "output_type": "execute_result",
          "data": {
            "text/plain": [
              "GridSearchCV(cv=5, estimator=RandomForestRegressor(random_state=42),\n",
              "             param_grid=[{'max_features': [2, 4, 6, 8, 10, 12, 14, 16, 18, 20,\n",
              "                                           21],\n",
              "                          'n_estimators': [1, 2, 3, 4, 5, 6, 7, 8, 9, 10, 11,\n",
              "                                           12, 13, 14, 15, 20, 25, 50, 75,\n",
              "                                           100]}],\n",
              "             return_train_score=True, scoring='neg_mean_squared_error')"
            ]
          },
          "metadata": {},
          "execution_count": 40
        }
      ]
    },
    {
      "cell_type": "code",
      "source": [
        "grid_search.best_params_"
      ],
      "metadata": {
        "id": "wr1Lkli8Gckl",
        "colab": {
          "base_uri": "https://localhost:8080/"
        },
        "outputId": "ef74a33e-2ef4-4728-8ad1-a5196e5e506d"
      },
      "execution_count": null,
      "outputs": [
        {
          "output_type": "execute_result",
          "data": {
            "text/plain": [
              "{'max_features': 12, 'n_estimators': 100}"
            ]
          },
          "metadata": {},
          "execution_count": 41
        }
      ]
    },
    {
      "cell_type": "code",
      "source": [
        "#For Random Forest Regressor\n",
        "from sklearn.ensemble import RandomForestRegressor\n",
        "\n",
        "forest_reg = RandomForestRegressor(n_estimators=100, max_features=12, random_state=42)\n",
        "forest_reg.fit(train_prepared, train_labels)"
      ],
      "metadata": {
        "id": "wiPcPe8zG3cG",
        "colab": {
          "base_uri": "https://localhost:8080/"
        },
        "outputId": "1a2bf7ca-5e4c-4fd5-e109-a3e644bf6e8b"
      },
      "execution_count": null,
      "outputs": [
        {
          "output_type": "execute_result",
          "data": {
            "text/plain": [
              "RandomForestRegressor(max_features=12, random_state=42)"
            ]
          },
          "metadata": {},
          "execution_count": 42
        }
      ]
    },
    {
      "cell_type": "code",
      "source": [
        "random_forest_pred = forest_reg.predict(test_prepared)\n",
        "forest_mse = mean_squared_error(test_labels,random_forest_pred)\n",
        "forest_rmse = np.sqrt(forest_mse)\n",
        "forest_rmse"
      ],
      "metadata": {
        "id": "rO7D1NNbG_tV",
        "colab": {
          "base_uri": "https://localhost:8080/"
        },
        "outputId": "8e00f2aa-acde-400a-848d-1eeebfa66896"
      },
      "execution_count": null,
      "outputs": [
        {
          "output_type": "execute_result",
          "data": {
            "text/plain": [
              "2.1631659334159603"
            ]
          },
          "metadata": {},
          "execution_count": 43
        }
      ]
    },
    {
      "cell_type": "code",
      "source": [
        "from sklearn.model_selection import cross_val_score\n",
        "\n",
        "scores = cross_val_score(forest_reg, train_prepared, train_labels,\n",
        "                         scoring=\"neg_mean_squared_error\", cv=5)\n",
        "forest_rmse_scores = np.sqrt(-scores)\n",
        "print(\"Scores:\", forest_rmse_scores)\n",
        "print(\"Mean RMSE:\", forest_rmse_scores.mean())\n",
        "print(\"Standard deviation:\", forest_rmse_scores.std())"
      ],
      "metadata": {
        "id": "NEtwt1psHE97",
        "colab": {
          "base_uri": "https://localhost:8080/"
        },
        "outputId": "4c833870-d9ce-48ec-c195-d2e2242299b8"
      },
      "execution_count": null,
      "outputs": [
        {
          "output_type": "stream",
          "name": "stdout",
          "text": [
            "Scores: [2.41966412 2.26891582 2.23511756 2.09915495 2.34992757]\n",
            "Mean RMSE: 2.274556006468262\n",
            "Standard deviation: 0.10871059704021316\n"
          ]
        }
      ]
    },
    {
      "cell_type": "code",
      "source": [
        "import matplotlib.pyplot as plt\n",
        "plt.scatter(random_forest_pred, test_labels)\n",
        "plt.xlabel(\"Predicted Life Expectancy\")\n",
        "plt.ylabel(\"True Life Expectancy\")\n",
        "plt.title(\"Random Forest Regressor Prediction\")\n",
        "plt.xlim([70, 90])\n",
        "plt.ylim([70, 90])"
      ],
      "metadata": {
        "id": "uwQxHxv3QlL5",
        "colab": {
          "base_uri": "https://localhost:8080/",
          "height": 312
        },
        "outputId": "eb22c5c1-05b4-48a1-e966-3a9edc3bdb74"
      },
      "execution_count": null,
      "outputs": [
        {
          "output_type": "execute_result",
          "data": {
            "text/plain": [
              "(70.0, 90.0)"
            ]
          },
          "metadata": {},
          "execution_count": 45
        },
        {
          "output_type": "display_data",
          "data": {
            "text/plain": [
              "<Figure size 432x288 with 1 Axes>"
            ],
            "image/png": "[encoded data removed]"
          },
          "metadata": {
            "needs_background": "light"
          }
        }
      ]
    },
    {
      "cell_type": "markdown",
      "source": [
        "XGBooster Regression"
      ],
      "metadata": {
        "id": "gbzdBbjFRF7r"
      }
    },
    {
      "cell_type": "code",
      "source": [
        "import xgboost as xgb\n",
        "\n",
        "xgboost_reg = xgb.XGBRegressor(objective=\"reg:squarederror\",booster='gbtree', random_state=42)\n",
        "xgboost_reg.fit(train_prepared, train_labels)"
      ],
      "metadata": {
        "id": "T8OWC1zHRNA0",
        "colab": {
          "base_uri": "https://localhost:8080/"
        },
        "outputId": "bdc91b6f-df7a-4ac1-de19-0401f6cdda14"
      },
      "execution_count": null,
      "outputs": [
        {
          "output_type": "execute_result",
          "data": {
            "text/plain": [
              "XGBRegressor(objective='reg:squarederror', random_state=42)"
            ]
          },
          "metadata": {},
          "execution_count": 46
        }
      ]
    },
    {
      "cell_type": "code",
      "source": [
        "xgb_pred = xgboost_reg.predict(test_prepared)\n",
        "xgb_mse = mean_squared_error(test_labels,xgb_pred)\n",
        "xgb_rmse = np.sqrt(xgb_mse)\n",
        "xgb_rmse"
      ],
      "metadata": {
        "id": "b635FSBLTEFg",
        "colab": {
          "base_uri": "https://localhost:8080/"
        },
        "outputId": "4443b2cc-519b-4e3d-81e6-119585e79563"
      },
      "execution_count": null,
      "outputs": [
        {
          "output_type": "execute_result",
          "data": {
            "text/plain": [
              "2.105799488625408"
            ]
          },
          "metadata": {},
          "execution_count": 47
        }
      ]
    },
    {
      "cell_type": "code",
      "source": [
        "from sklearn.model_selection import cross_val_score\n",
        "\n",
        "scores = cross_val_score(xgboost_reg, train_prepared, train_labels,\n",
        "                         scoring=\"neg_mean_squared_error\", cv=5)\n",
        "xgboost_rmse_scores = np.sqrt(-scores)\n",
        "print(\"Scores:\", xgboost_rmse_scores)\n",
        "print(\"Mean RMSE:\", xgboost_rmse_scores.mean())\n",
        "print(\"Standard deviation:\", xgboost_rmse_scores.std())"
      ],
      "metadata": {
        "id": "SNtjzEovTUjr",
        "colab": {
          "base_uri": "https://localhost:8080/"
        },
        "outputId": "826f4c0c-6250-4915-fe2b-4e1b8c97afd1"
      },
      "execution_count": null,
      "outputs": [
        {
          "output_type": "stream",
          "name": "stdout",
          "text": [
            "Scores: [2.40006641 2.3419438  2.28706753 2.17596788 2.48450782]\n",
            "Mean RMSE: 2.337910688484338\n",
            "Standard deviation: 0.10409689782200965\n"
          ]
        }
      ]
    },
    {
      "cell_type": "code",
      "source": [
        "from sklearn.model_selection import GridSearchCV\n",
        "\n",
        "param_grid = [\n",
        "    # try 12 (3×4) combinations of hyperparameters\n",
        "    {'objective':[\"reg:squarederror\"],\n",
        "     'n_estimators': [1, 2, 3, 4, 5, 6, 7 ,8, 9 , 10, 11, 12, 13, 14, 15, 20,\n",
        "                      25, 30, 35, 40,45,50,55,60,65,70, 75,80,85,90,95,100],\n",
        "     'max_depth': [3,4,5,6,7,8,9,10],\n",
        "     'learning_rate': [0.01, 0.05, 0.1, 0.15, 0.2, 0.25]}\n",
        "  ]\n",
        "\n",
        "xgboost_reg = xgb.XGBRegressor(booster='gbtree', random_state=42)\n",
        "# train across 5 folds, that's a total of 90 rounds of training\n",
        "grid_search = GridSearchCV(xgboost_reg, param_grid, cv=5,\n",
        "                           scoring='neg_mean_squared_error',\n",
        "                           return_train_score=True)\n",
        "grid_search.fit(train_prepared, train_labels)"
      ],
      "metadata": {
        "id": "qKxy6UT2J084",
        "colab": {
          "base_uri": "https://localhost:8080/"
        },
        "outputId": "61d95346-c467-48ac-c3ec-1cfaa0149c76"
      },
      "execution_count": null,
      "outputs": [
        {
          "output_type": "execute_result",
          "data": {
            "text/plain": [
              "GridSearchCV(cv=5, estimator=XGBRegressor(random_state=42),\n",
              "             param_grid=[{'learning_rate': [0.01, 0.05, 0.1, 0.15, 0.2, 0.25],\n",
              "                          'max_depth': [3, 4, 5, 6, 7, 8, 9, 10],\n",
              "                          'n_estimators': [1, 2, 3, 4, 5, 6, 7, 8, 9, 10, 11,\n",
              "                                           12, 13, 14, 15, 20, 25, 30, 35, 40,\n",
              "                                           45, 50, 55, 60, 65, 70, 75, 80, 85,\n",
              "                                           90, ...],\n",
              "                          'objective': ['reg:squarederror']}],\n",
              "             return_train_score=True, scoring='neg_mean_squared_error')"
            ]
          },
          "metadata": {},
          "execution_count": 49
        }
      ]
    },
    {
      "cell_type": "code",
      "source": [
        "grid_search.best_params_"
      ],
      "metadata": {
        "id": "CKj2Q1KzKmq5",
        "colab": {
          "base_uri": "https://localhost:8080/"
        },
        "outputId": "fab7e619-6d11-46f8-e88f-bef9094eacd3"
      },
      "execution_count": null,
      "outputs": [
        {
          "output_type": "execute_result",
          "data": {
            "text/plain": [
              "{'learning_rate': 0.1,\n",
              " 'max_depth': 3,\n",
              " 'n_estimators': 70,\n",
              " 'objective': 'reg:squarederror'}"
            ]
          },
          "metadata": {},
          "execution_count": 50
        }
      ]
    },
    {
      "cell_type": "code",
      "source": [
        "import xgboost as xgb\n",
        "\n",
        "xgboost_reg = xgb.XGBRegressor(objective=\"reg:squarederror\",\n",
        "                               learning_rate=0.1, max_depth=3,\n",
        "                               booster='gbtree', n_estimators=70, random_state=42)\n",
        "xgboost_reg.fit(train_prepared, train_labels)"
      ],
      "metadata": {
        "id": "ek_drWZaLqXN",
        "colab": {
          "base_uri": "https://localhost:8080/"
        },
        "outputId": "4834b719-ae83-4e79-8292-91314d8d8559"
      },
      "execution_count": null,
      "outputs": [
        {
          "output_type": "execute_result",
          "data": {
            "text/plain": [
              "XGBRegressor(n_estimators=70, objective='reg:squarederror', random_state=42)"
            ]
          },
          "metadata": {},
          "execution_count": 51
        }
      ]
    },
    {
      "cell_type": "code",
      "source": [
        "xgb_pred = xgboost_reg.predict(test_prepared)\n",
        "xgb_mse = mean_squared_error(test_labels,xgb_pred)\n",
        "xgb_rmse = np.sqrt(xgb_mse)\n",
        "xgb_rmse"
      ],
      "metadata": {
        "id": "qn4ITev7LvI6",
        "colab": {
          "base_uri": "https://localhost:8080/"
        },
        "outputId": "b170b0db-7df1-4a06-be22-d885fe83b049"
      },
      "execution_count": null,
      "outputs": [
        {
          "output_type": "execute_result",
          "data": {
            "text/plain": [
              "2.1255615081945898"
            ]
          },
          "metadata": {},
          "execution_count": 52
        }
      ]
    },
    {
      "cell_type": "code",
      "source": [
        "from sklearn.model_selection import cross_val_score\n",
        "\n",
        "scores = cross_val_score(xgboost_reg, train_prepared, train_labels,\n",
        "                         scoring=\"neg_mean_squared_error\", cv=5)\n",
        "xgboost_rmse_scores = np.sqrt(-scores)\n",
        "print(\"Scores:\", xgboost_rmse_scores)\n",
        "print(\"Mean RMSE:\", xgboost_rmse_scores.mean())\n",
        "print(\"Standard deviation:\", xgboost_rmse_scores.std())"
      ],
      "metadata": {
        "id": "D2DH_5O8MKC8",
        "colab": {
          "base_uri": "https://localhost:8080/"
        },
        "outputId": "2dedd2d0-39b2-45b2-d211-b66a6bff0e86"
      },
      "execution_count": null,
      "outputs": [
        {
          "output_type": "stream",
          "name": "stdout",
          "text": [
            "Scores: [2.35864995 2.33069122 2.252131   2.14921233 2.47792653]\n",
            "Mean RMSE: 2.313722206299127\n",
            "Standard deviation: 0.10965991623451203\n"
          ]
        }
      ]
    },
    {
      "cell_type": "code",
      "source": [
        "import matplotlib.pyplot as plt\n",
        "plt.scatter(xgb_pred, test_labels)\n",
        "plt.xlabel(\"Predicted Life Expectancy\")\n",
        "plt.ylabel(\"True Life Expectancy\")\n",
        "plt.title(\"XG Booost Regressor Prediction\")\n",
        "plt.xlim([70, 90])\n",
        "plt.ylim([70, 90])"
      ],
      "metadata": {
        "id": "kyxwa17oTlmd",
        "colab": {
          "base_uri": "https://localhost:8080/",
          "height": 312
        },
        "outputId": "921d22a5-1ad1-4873-fe9a-037d7b6f620a"
      },
      "execution_count": null,
      "outputs": [
        {
          "output_type": "execute_result",
          "data": {
            "text/plain": [
              "(70.0, 90.0)"
            ]
          },
          "metadata": {},
          "execution_count": 54
        },
        {
          "output_type": "display_data",
          "data": {
            "text/plain": [
              "<Figure size 432x288 with 1 Axes>"
            ],
            "image/png": "[encoded data removed]"
          },
          "metadata": {
            "needs_background": "light"
          }
        }
      ]
    },
    {
      "cell_type": "code",
      "source": [
        "xgboost_reg.get_booster().get_score(importance_type='gain')\n"
      ],
      "metadata": {
        "id": "jds_QqKT_O2F",
        "colab": {
          "base_uri": "https://localhost:8080/"
        },
        "outputId": "5b100633-5f91-470f-f7c1-e5927ecc56c8"
      },
      "execution_count": null,
      "outputs": [
        {
          "output_type": "execute_result",
          "data": {
            "text/plain": [
              "{'f14': 99.04931519791666,\n",
              " 'f5': 119.47350796599996,\n",
              " 'f2': 75.39698975857141,\n",
              " 'f6': 14.936761535,\n",
              " 'f54': 71.33808055555555,\n",
              " 'f17': 15.149965603333333,\n",
              " 'f16': 15.111392189166667,\n",
              " 'f10': 19.242453636875002,\n",
              " 'f1': 12.127846798651424,\n",
              " 'f0': 21.254073971350355,\n",
              " 'f81': 22.3950195,\n",
              " 'f7': 18.711493323333332,\n",
              " 'f8': 18.7507201725,\n",
              " 'f37': 21.0273438,\n",
              " 'f15': 21.427869916000002,\n",
              " 'f12': 24.924772024,\n",
              " 'f80': 30.991699195000002,\n",
              " 'f3': 20.99609412473684,\n",
              " 'f46': 16.007297995000002,\n",
              " 'f70': 28.33278162857143,\n",
              " 'f9': 20.192418381176466,\n",
              " 'f4': 19.631354212142856,\n",
              " 'f41': 16.865134775714285,\n",
              " 'f11': 21.962671158,\n",
              " 'f13': 31.37685776666667,\n",
              " 'f50': 16.0137634,\n",
              " 'f68': 13.036385866666668,\n",
              " 'f18': 12.211205,\n",
              " 'f43': 11.74209095,\n",
              " 'f24': 22.986412,\n",
              " 'f34': 19.1548805}"
            ]
          },
          "metadata": {},
          "execution_count": 56
        }
      ]
    }
  ]
}